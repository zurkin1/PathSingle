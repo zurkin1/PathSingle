{
 "cells": [
  {
   "cell_type": "markdown",
   "metadata": {
    "id": "bLwvSgBB2hh5"
   },
   "source": []
  },
  {
   "cell_type": "markdown",
   "metadata": {
    "id": "CX8Ibqt64FP8"
   },
   "source": [
    "# Feature Reduction With ATOM"
   ]
  },
  {
   "cell_type": "code",
   "execution_count": null,
   "metadata": {
    "id": "QfkgRQxtf7PY"
   },
   "outputs": [],
   "source": [
    "import pandas as pd\n",
    "import numpy as np\n",
    "from sklearn.model_selection import train_test_split\n",
    "from sklearn.neighbors import KNeighborsClassifier\n",
    "from atom import ATOMClassifier\n",
    "from sklearn.preprocessing import LabelEncoder\n",
    "from sklearn.ensemble import ExtraTreesClassifier\n",
    "from sklearn.feature_selection import SelectFromModel\n",
    "from sklearn.metrics import roc_auc_score, accuracy_score\n",
    "from sklearn.feature_selection import SequentialFeatureSelector"
   ]
  },
  {
   "cell_type": "markdown",
   "metadata": {
    "id": "k6YvgkBc4Kjg"
   },
   "source": [
    "### Select The Output Activity File From PathSingle"
   ]
  },
  {
   "cell_type": "code",
   "execution_count": null,
   "metadata": {
    "id": "eSn694bAf7Pd"
   },
   "outputs": [],
   "source": [
    "data = pd.read_csv('c:\\\\Users\\\\user\\\\Documents\\\\Downloads\\\\output_activity_st3.csv', index_col=0)"
   ]
  },
  {
   "cell_type": "code",
   "execution_count": null,
   "metadata": {
    "id": "WzRjCyabf7Pe"
   },
   "outputs": [],
   "source": [
    "x = data.iloc[:,:-1].values\n",
    "y = data.iloc[:,-1].values"
   ]
  },
  {
   "cell_type": "code",
   "execution_count": null,
   "metadata": {
    "id": "kHIyQaHof7Pf"
   },
   "outputs": [],
   "source": [
    "ly = LabelEncoder()\n",
    "y = ly.fit_transform(y)\n",
    "x_train, x_test, y_train, y_test = train_test_split(x, y, stratify=y)\n",
    "atom = ATOMClassifier(x, y, verbose=2)"
   ]
  },
  {
   "cell_type": "markdown",
   "metadata": {
    "id": "nPwzvCUo4xKA"
   },
   "source": [
    "### Select A Classifier"
   ]
  },
  {
   "cell_type": "code",
   "execution_count": null,
   "metadata": {
    "id": "Zg29Nnlqf7Ph",
    "outputId": "1fc6d198-4ba2-4ea0-a5b0-ab8633a4c3d1"
   },
   "outputs": [
    {
     "name": "stdout",
     "output_type": "stream",
     "text": [
      "\n",
      "Training ========================= >>\n",
      "Models: RF\n",
      "Metric: roc_auc_ovr\n",
      "\n",
      "\n",
      "Running hyperparameter tuning for RandomForest...\n",
      "| trial | n_estimators | criterion | max_depth | min_samples_split | min_samples_leaf | max_features | bootstrap | max_samples | ccp_alpha | roc_auc_ovr | best_roc_auc_ovr | time_trial | time_ht |    state |\n",
      "| ----- | ------------ | --------- | --------- | ----------------- | ---------------- | ------------ | --------- | ----------- | --------- | ----------- | ---------------- | ---------- | ------- | -------- |\n",
      "| 0     |          110 |   entropy |         5 |                20 |               11 |          0.5 |      True |         0.5 |      0.03 |      0.9831 |           0.9831 |    05m:37s | 05m:37s | COMPLETE |\n",
      "| 1     |           20 |      gini |      None |                14 |               16 |          0.8 |     False |         --- |     0.035 |      0.9274 |           0.9831 |    06m:34s | 12m:11s | COMPLETE |\n",
      "| 2     |          270 |   entropy |         2 |                 2 |                7 |         None |      True |        None |     0.015 |      0.9266 |           0.9831 |    24m:45s | 36m:56s | COMPLETE |\n",
      "| 3     |          230 |   entropy |        10 |                17 |               18 |         log2 |     False |         --- |       0.0 |      0.9986 |           0.9986 |    01m:43s | 38m:39s | COMPLETE |\n",
      "| 4     |          210 |   entropy |        16 |                 3 |                9 |         sqrt |      True |        None |     0.035 |      0.9872 |           0.9986 |    02m:36s | 41m:15s | COMPLETE |\n",
      "| 5     |          410 |   entropy |         6 |                20 |               17 |         None |     False |         --- |      0.03 |      0.9043 |           0.9986 | 02h:24m:.. | 03h:0.. | COMPLETE |\n",
      "| 6     |           10 |      gini |        10 |                14 |                7 |          0.9 |     False |         --- |     0.015 |      0.9234 |           0.9986 |    02m:06s | 03h:0.. | COMPLETE |\n",
      "| 7     |           50 |   entropy |         4 |                16 |                7 |          0.5 |     False |         --- |     0.035 |      0.9798 |           0.9986 |    06m:27s | 03h:1.. | COMPLETE |\n",
      "| 8     |          230 |   entropy |        12 |                13 |                2 |         log2 |     False |         --- |      0.01 |      0.9917 |           0.9986 |    01m:49s | 03h:1.. | COMPLETE |\n",
      "| 9     |          430 |      gini |         1 |                 8 |                3 |          0.8 |     False |         --- |     0.035 |      0.7646 |           0.9986 |    09m:01s | 03h:2.. | COMPLETE |\n",
      "Hyperparameter tuning ---------------------------\n",
      "Best trial --> 3\n",
      "Best parameters:\n",
      " --> n_estimators: 230\n",
      " --> criterion: entropy\n",
      " --> max_depth: 10\n",
      " --> min_samples_split: 17\n",
      " --> min_samples_leaf: 18\n",
      " --> max_features: log2\n",
      " --> bootstrap: False\n",
      " --> ccp_alpha: 0.0\n",
      "Best evaluation --> roc_auc_ovr: 0.9986\n",
      "Time elapsed: 03h:24m:51s\n",
      "Fit ---------------------------------------------\n",
      "Train evaluation --> roc_auc_ovr: 0.9997\n",
      "Test evaluation --> roc_auc_ovr: 0.9984\n",
      "Time elapsed: 02m:12s\n",
      "-------------------------------------------------\n",
      "Total time: 03h:27m:03s\n",
      "\n",
      "\n",
      "Final results ==================== >>\n",
      "Total time: 03h:27m:03s\n",
      "-------------------------------------\n",
      "RandomForest --> roc_auc_ovr: 0.9984\n"
     ]
    }
   ],
   "source": [
    "atom.run(models=[\"RF\"], metric=\"roc_auc_ovr\", n_trials=10)"
   ]
  },
  {
   "cell_type": "code",
   "execution_count": null,
   "metadata": {
    "colab": {
     "base_uri": "https://localhost:8080/"
    },
    "id": "QLdrjAXXfxuM",
    "outputId": "56ccc84f-e00a-4884-d249-a77682fd1d58"
   },
   "outputs": [
    {
     "data": {
      "text/plain": [
       "(28697, 581)"
      ]
     },
     "execution_count": 6,
     "metadata": {},
     "output_type": "execute_result"
    }
   ],
   "source": [
    "clf = ExtraTreesClassifier(n_estimators=100)\n",
    "clf = clf.fit(x_train, y_train)\n",
    "#clf.feature_importance_\n",
    "x.shape"
   ]
  },
  {
   "cell_type": "code",
   "execution_count": null,
   "metadata": {
    "colab": {
     "base_uri": "https://localhost:8080/"
    },
    "id": "GWj9vcTIf23t",
    "outputId": "a5618e1c-94e8-4b73-adfe-de8220cbd89b"
   },
   "outputs": [
    {
     "name": "stdout",
     "output_type": "stream",
     "text": [
      "ACC score: 0.9810452961672473  AUC score: 0.999380906303266\n"
     ]
    }
   ],
   "source": [
    "#Predict the class probabilities of the test data.\n",
    "y_proba = clf.predict_proba(x_test)\n",
    "y_pred = clf.predict(x_test)\n",
    "# Calculate the AUC score.\n",
    "auc = roc_auc_score(y_test, np.array(y_proba), multi_class='ovr')\n",
    "acc = accuracy_score(y_test, y_pred)\n",
    "\n",
    "print(\"ACC score:\", acc, \" AUC score:\", auc)"
   ]
  },
  {
   "cell_type": "code",
   "execution_count": null,
   "metadata": {
    "id": "NH7IQ0LnxmUC"
   },
   "outputs": [],
   "source": [
    "atom.feature_selection(strategy=\"sfs\", solver=\"rf\", n_features=6, verbose=2)\n",
    "atom.run(models=[\"RF\"], metric=\"accuracy\", n_trials=10)"
   ]
  },
  {
   "cell_type": "markdown",
   "metadata": {
    "id": "1C_sNVlr5NMv"
   },
   "source": [
    "### Using SKLearn SelectFromModel"
   ]
  },
  {
   "cell_type": "code",
   "execution_count": null,
   "metadata": {
    "colab": {
     "base_uri": "https://localhost:8080/"
    },
    "id": "4BFFDIjsf6Q_",
    "outputId": "ded83096-3459-426b-e459-96c817913fd4"
   },
   "outputs": [
    {
     "name": "stdout",
     "output_type": "stream",
     "text": [
      "(28697, 7)\n"
     ]
    },
    {
     "data": {
      "text/plain": [
       "array(['Aurora B signaling(NCI/Nature)', 'Aurora C signaling(NCI/Nature)',\n",
       "       'ECM-receptor interaction(Kegg)',\n",
       "       'Pathogenic Escherichia coli infection(Kegg)',\n",
       "       'Signaling by Aurora kinases(NCI/Nature)',\n",
       "       'cdc25 and chk1 regulatory pathway in response to dna damage(BioCarta)',\n",
       "       'sonic hedgehog receptor ptc1 regulates cell cycle(BioCarta)'],\n",
       "      dtype=object)"
      ]
     },
     "execution_count": 8,
     "metadata": {},
     "output_type": "execute_result"
    }
   ],
   "source": [
    "#Select from model.\n",
    "model = SelectFromModel(clf, prefit=True, max_features=7)\n",
    "x_new = model.transform(x)\n",
    "print(x_new.shape)\n",
    "model.get_feature_names_out(data.columns[:-1])[:10]"
   ]
  },
  {
   "cell_type": "markdown",
   "metadata": {
    "id": "L906MWK55TJp"
   },
   "source": [
    "### Using SKLearn SequentialFeatureSelector"
   ]
  },
  {
   "cell_type": "code",
   "execution_count": null,
   "metadata": {
    "id": "mRBkE-ZGw0A-"
   },
   "outputs": [],
   "source": [
    "#SequentialFeatureSelector.\n",
    "sfs = SequentialFeatureSelector(clf, n_features_to_select=5, direction=\"forward\")\n",
    "sfs.fit(x,y)\n",
    "print(f'Features selected {sfs.get_support()}')"
   ]
  },
  {
   "cell_type": "code",
   "execution_count": null,
   "metadata": {
    "colab": {
     "base_uri": "https://localhost:8080/"
    },
    "id": "RRdBIBXEf99u",
    "outputId": "57c76fc6-179b-482e-ea4b-332d7adfafcd"
   },
   "outputs": [
    {
     "name": "stdout",
     "output_type": "stream",
     "text": [
      "ACC score: 0.9225087108013937  AUC score: 0.9820332647157359\n"
     ]
    }
   ],
   "source": [
    "#Retrain.\n",
    "new_columns = model.get_feature_names_out(data.columns[:-1])\n",
    "new_data = data[new_columns].copy()\n",
    "new_data['state'] = data['state']\n",
    "x = new_data.iloc[:,:-1].values\n",
    "y = new_data.iloc[:,-1].values\n",
    "y = ly.fit_transform(y)\n",
    "x_train, x_test, y_train, y_test = train_test_split(x, y)\n",
    "clf = ExtraTreesClassifier(n_estimators=100)\n",
    "clf = clf.fit(x_train, y_train)\n",
    "#Predict the class probabilities of the test data.\n",
    "y_proba = clf.predict_proba(x_test)\n",
    "# Calculate the AUC score.\n",
    "auc = roc_auc_score(y_test, np.array(y_proba), multi_class='ovr')\n",
    "acc = accuracy_score(y_test, [np.argmax(i) for i in y_proba])\n",
    "\n",
    "print(\"ACC score:\", acc, \" AUC score:\", auc)"
   ]
  },
  {
   "cell_type": "code",
   "execution_count": null,
   "metadata": {
    "id": "Mz3e63m4uj5k"
   },
   "outputs": [],
   "source": [
    "import joblib\n",
    "import sys\n",
    "sys.modules['sklearn.externals.joblib'] = joblib\n",
    "from mlxtend.feature_selection import SequentialFeatureSelector as SFS\n",
    "\n",
    "\n",
    "knn = KNeighborClassifier(n_neighbors=4)\n",
    "sfs1 = SFS(knn,\n",
    "           k_features=10,\n",
    "           forward=False,\n",
    "           floating=True,\n",
    "           verbose=2,\n",
    "           scoring='accuracy',\n",
    "           cv=0,\n",
    "           n_jobs=-1)\n",
    "\n",
    "sfs1 = sfs1.fit(x_train, y_train)\n",
    "sfs1.k_score_"
   ]
  },
  {
   "cell_type": "code",
   "execution_count": null,
   "metadata": {
    "id": "TyzpdjQrw0A_",
    "outputId": "df589c69-9f6c-4959-b4c9-b415b9018b8e"
   },
   "outputs": [
    {
     "data": {
      "text/plain": [
       "[0, 1, 2, 3, 4, 5, 65]"
      ]
     },
     "execution_count": 71,
     "metadata": {},
     "output_type": "execute_result"
    }
   ],
   "source": [
    "best_features = [int(i) for i in sfs1.k_feature_names_]\n",
    "best_features"
   ]
  },
  {
   "cell_type": "markdown",
   "metadata": {
    "id": "2edi2iZ4uRm6"
   },
   "source": []
  },
  {
   "cell_type": "code",
   "execution_count": null,
   "metadata": {
    "id": "okirbvbUw0A_",
    "outputId": "db1f3900-53ef-43ce-8358-ca6d081924a1"
   },
   "outputs": [
    {
     "data": {
      "text/plain": [
       "Index(['1 4-Dichlorobenzene degradation(Kegg)',\n",
       "       '1- and 2-Methylnaphthalene degradation(Kegg)',\n",
       "       '3-Chloroacrylic acid degradation(Kegg)',\n",
       "       'Acute myeloid leukemia(Kegg)',\n",
       "       'Cellular roles of Anthrax toxin(NCI/Nature)'],\n",
       "      dtype='object')"
      ]
     },
     "execution_count": 53,
     "metadata": {},
     "output_type": "execute_result"
    }
   ],
   "source": [
    "best_features_names = data.columns[best_features]\n",
    "best_features_names"
   ]
  },
  {
   "cell_type": "code",
   "execution_count": null,
   "metadata": {
    "id": "Zu914dQOw0A_",
    "outputId": "a0ce8c75-54ff-407c-995c-a6cb500991d6"
   },
   "outputs": [
    {
     "data": {
      "text/plain": [
       "Index(['1 4-Dichlorobenzene degradation(Kegg)',\n",
       "       '1- and 2-Methylnaphthalene degradation(Kegg)',\n",
       "       '3-Chloroacrylic acid degradation(Kegg)',\n",
       "       'Acute myeloid leukemia(Kegg)', 'Adherens junction(Kegg)',\n",
       "       'Adipocytokine signaling pathway(Kegg)',\n",
       "       'Cellular roles of Anthrax toxin(NCI/Nature)'],\n",
       "      dtype='object')"
      ]
     },
     "execution_count": 72,
     "metadata": {},
     "output_type": "execute_result"
    }
   ],
   "source": [
    "best_features_names = data.columns[best_features]\n",
    "best_features_names\n",
    "#ACC score: 0.899233449477352  AUC score: 0.9786395870235323"
   ]
  },
  {
   "cell_type": "markdown",
   "metadata": {},
   "source": [
    "# Feature Reduction Using MLXtend"
   ]
  },
  {
   "cell_type": "code",
   "execution_count": 2,
   "metadata": {},
   "outputs": [],
   "source": [
    "import pandas as pd\n",
    "from sklearn.preprocessing import LabelEncoder\n",
    "from sklearn.neighbors import KNeighborsClassifier\n",
    "from sklearn.model_selection import train_test_split\n",
    "from sklearn.ensemble import ExtraTreesClassifier, RandomForestClassifier\n",
    "from sklearn.svm import LinearSVC\n",
    "from sklearn.naive_bayes import GaussianNB\n",
    "from mlxtend.feature_selection import SequentialFeatureSelector as SFS"
   ]
  },
  {
   "cell_type": "markdown",
   "metadata": {},
   "source": [
    "### Load Output Activity File From PathSingle"
   ]
  },
  {
   "cell_type": "code",
   "execution_count": 8,
   "metadata": {},
   "outputs": [],
   "source": [
    "#Activity file contains the activity level for each barcode and pathway.\n",
    "data = pd.read_csv('./data/output_activity_st3.csv', index_col=0)\n",
    "x = data.iloc[:,:-1].values\n",
    "y = data.iloc[:,-1].values\n",
    "ly = LabelEncoder()\n",
    "y = ly.fit_transform(y)"
   ]
  },
  {
   "cell_type": "code",
   "execution_count": 10,
   "metadata": {},
   "outputs": [
    {
     "data": {
      "text/html": [
       "<div>\n",
       "<style scoped>\n",
       "    .dataframe tbody tr th:only-of-type {\n",
       "        vertical-align: middle;\n",
       "    }\n",
       "\n",
       "    .dataframe tbody tr th {\n",
       "        vertical-align: top;\n",
       "    }\n",
       "\n",
       "    .dataframe thead th {\n",
       "        text-align: right;\n",
       "    }\n",
       "</style>\n",
       "<table border=\"1\" class=\"dataframe\">\n",
       "  <thead>\n",
       "    <tr style=\"text-align: right;\">\n",
       "      <th></th>\n",
       "      <th>1 4-Dichlorobenzene degradation(Kegg)</th>\n",
       "      <th>1- and 2-Methylnaphthalene degradation(Kegg)</th>\n",
       "      <th>3-Chloroacrylic acid degradation(Kegg)</th>\n",
       "      <th>Acute myeloid leukemia(Kegg)</th>\n",
       "      <th>Adherens junction(Kegg)</th>\n",
       "      <th>Adipocytokine signaling pathway(Kegg)</th>\n",
       "      <th>Alanine and aspartate metabolism(Kegg)</th>\n",
       "      <th>Alkaloid biosynthesis I(Kegg)</th>\n",
       "      <th>Alkaloid biosynthesis II(Kegg)</th>\n",
       "      <th>Allograft rejection(Kegg)</th>\n",
       "      <th>...</th>\n",
       "      <th>vegf hypoxia and angiogenesis(BioCarta)</th>\n",
       "      <th>visceral fat deposits and the metabolic syndrome(BioCarta)</th>\n",
       "      <th>visual signal transduction(BioCarta)</th>\n",
       "      <th>west nile virus(BioCarta)</th>\n",
       "      <th>wnt lrp6 signalling(BioCarta)</th>\n",
       "      <th>wnt signaling pathway(BioCarta)</th>\n",
       "      <th>y branching of actin filaments(BioCarta)</th>\n",
       "      <th>yaci and bcma stimulation of b cell immune responses(BioCarta)</th>\n",
       "      <th>-arrestins in gpcr desensitization(BioCarta)</th>\n",
       "      <th>state</th>\n",
       "    </tr>\n",
       "  </thead>\n",
       "  <tbody>\n",
       "    <tr>\n",
       "      <th>053l1_AAACCTGAGATGTCGG-1</th>\n",
       "      <td>0</td>\n",
       "      <td>0.255767</td>\n",
       "      <td>0.098922</td>\n",
       "      <td>0.149970</td>\n",
       "      <td>0.981817</td>\n",
       "      <td>0.530502</td>\n",
       "      <td>0.195352</td>\n",
       "      <td>0.070881</td>\n",
       "      <td>0</td>\n",
       "      <td>0.048225</td>\n",
       "      <td>...</td>\n",
       "      <td>0.064926</td>\n",
       "      <td>0.37408</td>\n",
       "      <td>0.004166</td>\n",
       "      <td>0.169582</td>\n",
       "      <td>0</td>\n",
       "      <td>0.001877</td>\n",
       "      <td>0.25696</td>\n",
       "      <td>0</td>\n",
       "      <td>0.026901</td>\n",
       "      <td>terminal exhausted</td>\n",
       "    </tr>\n",
       "    <tr>\n",
       "      <th>053l1_AAACCTGAGCAACGGT-1</th>\n",
       "      <td>0</td>\n",
       "      <td>0.237718</td>\n",
       "      <td>0.046336</td>\n",
       "      <td>0.145388</td>\n",
       "      <td>0.975889</td>\n",
       "      <td>0.544321</td>\n",
       "      <td>0.187429</td>\n",
       "      <td>0.051931</td>\n",
       "      <td>0</td>\n",
       "      <td>0.034680</td>\n",
       "      <td>...</td>\n",
       "      <td>0.061697</td>\n",
       "      <td>0.35308</td>\n",
       "      <td>0.003913</td>\n",
       "      <td>0.162971</td>\n",
       "      <td>0</td>\n",
       "      <td>0.001905</td>\n",
       "      <td>0.13747</td>\n",
       "      <td>0</td>\n",
       "      <td>0.090531</td>\n",
       "      <td>effector</td>\n",
       "    </tr>\n",
       "  </tbody>\n",
       "</table>\n",
       "<p>2 rows × 582 columns</p>\n",
       "</div>"
      ],
      "text/plain": [
       "                          1 4-Dichlorobenzene degradation(Kegg)  \\\n",
       "053l1_AAACCTGAGATGTCGG-1                                      0   \n",
       "053l1_AAACCTGAGCAACGGT-1                                      0   \n",
       "\n",
       "                          1- and 2-Methylnaphthalene degradation(Kegg)  \\\n",
       "053l1_AAACCTGAGATGTCGG-1                                      0.255767   \n",
       "053l1_AAACCTGAGCAACGGT-1                                      0.237718   \n",
       "\n",
       "                          3-Chloroacrylic acid degradation(Kegg)  \\\n",
       "053l1_AAACCTGAGATGTCGG-1                                0.098922   \n",
       "053l1_AAACCTGAGCAACGGT-1                                0.046336   \n",
       "\n",
       "                          Acute myeloid leukemia(Kegg)  \\\n",
       "053l1_AAACCTGAGATGTCGG-1                      0.149970   \n",
       "053l1_AAACCTGAGCAACGGT-1                      0.145388   \n",
       "\n",
       "                          Adherens junction(Kegg)  \\\n",
       "053l1_AAACCTGAGATGTCGG-1                 0.981817   \n",
       "053l1_AAACCTGAGCAACGGT-1                 0.975889   \n",
       "\n",
       "                          Adipocytokine signaling pathway(Kegg)  \\\n",
       "053l1_AAACCTGAGATGTCGG-1                               0.530502   \n",
       "053l1_AAACCTGAGCAACGGT-1                               0.544321   \n",
       "\n",
       "                          Alanine and aspartate metabolism(Kegg)  \\\n",
       "053l1_AAACCTGAGATGTCGG-1                                0.195352   \n",
       "053l1_AAACCTGAGCAACGGT-1                                0.187429   \n",
       "\n",
       "                          Alkaloid biosynthesis I(Kegg)  \\\n",
       "053l1_AAACCTGAGATGTCGG-1                       0.070881   \n",
       "053l1_AAACCTGAGCAACGGT-1                       0.051931   \n",
       "\n",
       "                          Alkaloid biosynthesis II(Kegg)  \\\n",
       "053l1_AAACCTGAGATGTCGG-1                               0   \n",
       "053l1_AAACCTGAGCAACGGT-1                               0   \n",
       "\n",
       "                          Allograft rejection(Kegg)  ...  \\\n",
       "053l1_AAACCTGAGATGTCGG-1                   0.048225  ...   \n",
       "053l1_AAACCTGAGCAACGGT-1                   0.034680  ...   \n",
       "\n",
       "                          vegf hypoxia and angiogenesis(BioCarta)  \\\n",
       "053l1_AAACCTGAGATGTCGG-1                                 0.064926   \n",
       "053l1_AAACCTGAGCAACGGT-1                                 0.061697   \n",
       "\n",
       "                          visceral fat deposits and the metabolic syndrome(BioCarta)  \\\n",
       "053l1_AAACCTGAGATGTCGG-1                                            0.37408            \n",
       "053l1_AAACCTGAGCAACGGT-1                                            0.35308            \n",
       "\n",
       "                          visual signal transduction(BioCarta)  \\\n",
       "053l1_AAACCTGAGATGTCGG-1                              0.004166   \n",
       "053l1_AAACCTGAGCAACGGT-1                              0.003913   \n",
       "\n",
       "                          west nile virus(BioCarta)  \\\n",
       "053l1_AAACCTGAGATGTCGG-1                   0.169582   \n",
       "053l1_AAACCTGAGCAACGGT-1                   0.162971   \n",
       "\n",
       "                          wnt lrp6 signalling(BioCarta)  \\\n",
       "053l1_AAACCTGAGATGTCGG-1                              0   \n",
       "053l1_AAACCTGAGCAACGGT-1                              0   \n",
       "\n",
       "                          wnt signaling pathway(BioCarta)  \\\n",
       "053l1_AAACCTGAGATGTCGG-1                         0.001877   \n",
       "053l1_AAACCTGAGCAACGGT-1                         0.001905   \n",
       "\n",
       "                          y branching of actin filaments(BioCarta)  \\\n",
       "053l1_AAACCTGAGATGTCGG-1                                   0.25696   \n",
       "053l1_AAACCTGAGCAACGGT-1                                   0.13747   \n",
       "\n",
       "                          yaci and bcma stimulation of b cell immune responses(BioCarta)  \\\n",
       "053l1_AAACCTGAGATGTCGG-1                                                  0                \n",
       "053l1_AAACCTGAGCAACGGT-1                                                  0                \n",
       "\n",
       "                          -arrestins in gpcr desensitization(BioCarta)  \\\n",
       "053l1_AAACCTGAGATGTCGG-1                                       0.026901   \n",
       "053l1_AAACCTGAGCAACGGT-1                                       0.090531   \n",
       "\n",
       "                                       state  \n",
       "053l1_AAACCTGAGATGTCGG-1  terminal exhausted  \n",
       "053l1_AAACCTGAGCAACGGT-1            effector  \n",
       "\n",
       "[2 rows x 582 columns]"
      ]
     },
     "execution_count": 10,
     "metadata": {},
     "output_type": "execute_result"
    }
   ],
   "source": [
    "data.head(2)"
   ]
  },
  {
   "cell_type": "markdown",
   "metadata": {},
   "source": [
    "### Select Different Classifiers"
   ]
  },
  {
   "cell_type": "code",
   "execution_count": null,
   "metadata": {},
   "outputs": [
    {
     "name": "stderr",
     "output_type": "stream",
     "text": [
      "[Parallel(n_jobs=-1)]: Using backend LokyBackend with 8 concurrent workers.\n",
      "[Parallel(n_jobs=-1)]: Done  25 tasks      | elapsed:    5.2s\n",
      "[Parallel(n_jobs=-1)]: Done 146 tasks      | elapsed:   14.0s\n",
      "[Parallel(n_jobs=-1)]: Done 349 tasks      | elapsed:   30.6s\n",
      "[Parallel(n_jobs=-1)]: Done 581 out of 581 | elapsed:   44.3s finished\n",
      "\n",
      "[2024-12-06 21:14:58] Features: 1/3 -- score: 0.800854939132051[Parallel(n_jobs=-1)]: Using backend LokyBackend with 8 concurrent workers.\n",
      "[Parallel(n_jobs=-1)]: Done  25 tasks      | elapsed:    5.7s\n",
      "[Parallel(n_jobs=-1)]: Done 146 tasks      | elapsed:   28.6s\n",
      "[Parallel(n_jobs=-1)]: Done 349 tasks      | elapsed:  1.2min\n",
      "[Parallel(n_jobs=-1)]: Done 580 out of 580 | elapsed:  1.7min finished\n",
      "\n",
      "[2024-12-06 21:16:43] Features: 2/3 -- score: 0.8909952606635071[Parallel(n_jobs=-1)]: Using backend LokyBackend with 8 concurrent workers.\n",
      "[Parallel(n_jobs=-1)]: Done  25 tasks      | elapsed:   12.5s\n",
      "[Parallel(n_jobs=-1)]: Done 146 tasks      | elapsed:  1.0min\n",
      "[Parallel(n_jobs=-1)]: Done 349 tasks      | elapsed:  2.5min\n",
      "[Parallel(n_jobs=-1)]: Done 579 out of 579 | elapsed:  3.9min finished\n",
      "[Parallel(n_jobs=-1)]: Using backend LokyBackend with 8 concurrent workers.\n",
      "[Parallel(n_jobs=-1)]: Done   2 out of   2 | elapsed:    1.4s finished\n",
      "\n",
      "[2024-12-06 21:20:41] Features: 3/3 -- score: 0.9203140972028622"
     ]
    }
   ],
   "source": [
    "#knn = KNeighborsClassifier(n_neighbors=6)\n",
    "#clf = ExtraTreesClassifier(n_estimators=100)\n",
    "#rfc = RandomForestClassifier(criterion=\"entropy\")\n",
    "lsvc = LinearSVC(penalty='l1', dual=False, C=2)\n",
    "#gnb = GaussianNB()\n",
    "\n",
    "X_train, X_test, y_train, y_test = train_test_split(x, y, test_size=0.25, stratify=y, random_state=1)\n",
    "\n",
    "# Using ForwardSelection Method\n",
    "sfs1 = SFS(lsvc,\n",
    "           k_features=3,\n",
    "           forward=True,\n",
    "           floating=True,\n",
    "           verbose=2,\n",
    "           scoring='accuracy',\n",
    "           cv=0, n_jobs=-1)\n",
    "\n",
    "sfs1 = sfs1.fit(X_train, y_train)\n",
    "# [2023-03-19 19:32:42] Features: 3/3 -- score: 0.9203140972028622 == sfs1.k_score_"
   ]
  },
  {
   "cell_type": "code",
   "execution_count": 12,
   "metadata": {},
   "outputs": [
    {
     "data": {
      "text/plain": [
       "[87, 189, 503]"
      ]
     },
     "execution_count": 12,
     "metadata": {},
     "output_type": "execute_result"
    }
   ],
   "source": [
    "best_features = [int(i) for i in sfs1.k_feature_names_]\n",
    "best_features\n",
    "#[87, 189, 503]"
   ]
  },
  {
   "cell_type": "code",
   "execution_count": 13,
   "metadata": {},
   "outputs": [
    {
     "data": {
      "text/plain": [
       "Index(['ECM-receptor interaction(Kegg)',\n",
       "       'Natural killer cell mediated cytotoxicity(Kegg)',\n",
       "       'rb tumor suppressor/checkpoint signaling in response to dna damage(BioCarta)'],\n",
       "      dtype='object')"
      ]
     },
     "execution_count": 13,
     "metadata": {},
     "output_type": "execute_result"
    }
   ],
   "source": [
    "best_features_names = data.columns[best_features]\n",
    "best_features_names\n",
    "#Index(['ECM-receptor interaction(Kegg)', 'Natural killer cell mediated cytotoxicity(Kegg)', 'rb tumor suppressor/checkpoint signaling in response to dna damage(BioCarta)'], dtype='object')"
   ]
  },
  {
   "cell_type": "code",
   "execution_count": null,
   "metadata": {},
   "outputs": [],
   "source": [
    "data.columns[[34, 189, 430]]\n",
    "#Index(['Aurora B signaling(NCI/Nature)', 'Natural killer cell mediated cytotoxicity(Kegg)', 'il2_stat5_test3(rotem)'], dtype='object')"
   ]
  },
  {
   "cell_type": "code",
   "execution_count": null,
   "metadata": {},
   "outputs": [],
   "source": [
    "X_train_sfs = sfs1.transform(X_train)\n",
    "X_test_sfs = sfs1.transform(X_test)\n",
    "\n",
    "lsvc.fit(X_train_sfs, y_train)\n",
    "y_pred = lsvc.predict(X_test_sfs)\n",
    "\n",
    "# Compute the accuracy of the prediction\n",
    "acc = float((y_test == y_pred).sum()) / y_pred.shape[0]\n",
    "print('Test set accuracy: %.2f %%' % (acc * 100))\n",
    "#Test set accuracy: 93.85 %"
   ]
  }
 ],
 "metadata": {
  "colab": {
   "provenance": []
  },
  "kernelspec": {
   "display_name": "venv",
   "language": "python",
   "name": "python3"
  },
  "language_info": {
   "codemirror_mode": {
    "name": "ipython",
    "version": 3
   },
   "file_extension": ".py",
   "mimetype": "text/x-python",
   "name": "python",
   "nbconvert_exporter": "python",
   "pygments_lexer": "ipython3",
   "version": "3.9.13"
  }
 },
 "nbformat": 4,
 "nbformat_minor": 1
}
