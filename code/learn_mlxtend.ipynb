{
 "cells": [
  {
   "cell_type": "markdown",
   "metadata": {
    "id": "4TbPdKnZuyts"
   },
   "source": [
    "# Feature Reduction Using MLXtend"
   ]
  },
  {
   "cell_type": "code",
   "execution_count": null,
   "metadata": {
    "id": "eNRDb4mTbALv"
   },
   "outputs": [],
   "source": [
    "import pandas as pd\n",
    "import numpy as np\n",
    "import matplotlib.pyplot as plt\n",
    "import seaborn as sns"
   ]
  },
  {
   "cell_type": "code",
   "execution_count": null,
   "metadata": {
    "id": "LqqhdHyUw_rI"
   },
   "outputs": [],
   "source": [
    "!pip install -q mlxtend"
   ]
  },
  {
   "cell_type": "markdown",
   "metadata": {
    "id": "90tPKF8oufau"
   },
   "source": [
    "# Load Output Activity File From PathSingle"
   ]
  },
  {
   "cell_type": "code",
   "execution_count": null,
   "metadata": {
    "id": "LdYsFAsobAL0"
   },
   "outputs": [],
   "source": [
    "#Activity file contains the activity level for each barcode and pathway.\n",
    "data = pd.read_csv('output_activity_st3.csv', index_col=0)"
   ]
  },
  {
   "cell_type": "code",
   "execution_count": null,
   "metadata": {
    "id": "CyB7G0uAbAL1"
   },
   "outputs": [],
   "source": [
    "x = data.iloc[:,:-1].values\n",
    "y = data.iloc[:,-1].values"
   ]
  },
  {
   "cell_type": "code",
   "execution_count": null,
   "metadata": {
    "id": "PEC_5B6AbAL2"
   },
   "outputs": [],
   "source": [
    "from sklearn.preprocessing import LabelEncoder\n",
    "ly = LabelEncoder()\n",
    "y = ly.fit_transform(y)"
   ]
  },
  {
   "cell_type": "markdown",
   "metadata": {
    "id": "PED7RNmkv-Bg"
   },
   "source": [
    "# Select Different Classifiers"
   ]
  },
  {
   "cell_type": "code",
   "execution_count": null,
   "metadata": {
    "id": "i3QjFUAUbAL2"
   },
   "outputs": [],
   "source": [
    "from sklearn.neighbors import KNeighborsClassifier\n",
    "from sklearn.datasets import load_iris\n",
    "from sklearn.model_selection import train_test_split\n",
    "from sklearn.metrics import accuracy_score, roc_auc_score\n",
    "from sklearn.ensemble import ExtraTreesClassifier, RandomForestClassifier\n",
    "from sklearn.svm import LinearSVC\n",
    "from sklearn.naive_bayes import GaussianNB\n",
    "#knn = KNeighborsClassifier(n_neighbors=6)\n",
    "#clf = ExtraTreesClassifier(n_estimators=100)\n",
    "#rfc = RandomForestClassifier(criterion=\"entropy\")\n",
    "lsvc = LinearSVC(penalty='l1', dual=False, C=2)\n",
    "#gnb = GaussianNB()"
   ]
  },
  {
   "cell_type": "code",
   "execution_count": null,
   "metadata": {
    "id": "-jWqkUcFbAL3"
   },
   "outputs": [],
   "source": [
    "X_train, X_test, y_train, y_test = train_test_split(x, y, test_size=0.25, stratify=y, random_state=1)"
   ]
  },
  {
   "cell_type": "markdown",
   "metadata": {
    "id": "tvN9ONmSwPug"
   },
   "source": [
    "# Using ForwardSelection Method"
   ]
  },
  {
   "cell_type": "code",
   "execution_count": null,
   "metadata": {
    "id": "pygxf7urbAL3",
    "outputId": "b476fba5-4b61-4954-cef1-0614a93e79dc"
   },
   "outputs": [
    {
     "name": "stderr",
     "output_type": "stream",
     "text": [
      "[Parallel(n_jobs=-1)]: Using backend LokyBackend with 8 concurrent workers.\n",
      "[Parallel(n_jobs=-1)]: Done  25 tasks      | elapsed:    4.3s\n",
      "[Parallel(n_jobs=-1)]: Done 146 tasks      | elapsed:   11.6s\n",
      "[Parallel(n_jobs=-1)]: Done 349 tasks      | elapsed:   25.2s\n",
      "[Parallel(n_jobs=-1)]: Done 581 out of 581 | elapsed:   36.3s finished\n",
      "\n",
      "[2023-03-19 19:27:52] Features: 1/3 -- score: 0.8003902982994145[Parallel(n_jobs=-1)]: Using backend LokyBackend with 8 concurrent workers.\n",
      "[Parallel(n_jobs=-1)]: Done  25 tasks      | elapsed:    4.5s\n",
      "[Parallel(n_jobs=-1)]: Done 146 tasks      | elapsed:   24.2s\n",
      "[Parallel(n_jobs=-1)]: Done 349 tasks      | elapsed:  1.0min\n",
      "[Parallel(n_jobs=-1)]: Done 580 out of 580 | elapsed:  1.5min finished\n",
      "\n",
      "[2023-03-19 19:29:20] Features: 2/3 -- score: 0.8909952606635071[Parallel(n_jobs=-1)]: Using backend LokyBackend with 8 concurrent workers.\n",
      "[Parallel(n_jobs=-1)]: Done  25 tasks      | elapsed:    9.8s\n",
      "[Parallel(n_jobs=-1)]: Done 146 tasks      | elapsed:   50.5s\n",
      "[Parallel(n_jobs=-1)]: Done 349 tasks      | elapsed:  2.0min\n",
      "[Parallel(n_jobs=-1)]: Done 579 out of 579 | elapsed:  3.3min finished\n",
      "[Parallel(n_jobs=-1)]: Using backend LokyBackend with 8 concurrent workers.\n",
      "[Parallel(n_jobs=-1)]: Done   2 out of   2 | elapsed:    0.8s finished\n",
      "\n",
      "[2023-03-19 19:32:42] Features: 3/3 -- score: 0.9203140972028622"
     ]
    }
   ],
   "source": [
    "from mlxtend.feature_selection import SequentialFeatureSelector as SFS\n",
    "\n",
    "sfs1 = SFS(lsvc,\n",
    "           k_features=3,\n",
    "           forward=True,\n",
    "           floating=True,\n",
    "           verbose=2,\n",
    "           scoring='accuracy',\n",
    "           cv=0, n_jobs=-1)\n",
    "\n",
    "sfs1 = sfs1.fit(X_train, y_train)\n"
   ]
  },
  {
   "cell_type": "code",
   "execution_count": null,
   "metadata": {
    "id": "C5pTQVYNtKuM",
    "outputId": "28ba1bcb-b02d-4ba5-d63f-0638ade185dc"
   },
   "outputs": [
    {
     "data": {
      "text/plain": [
       "[87, 189, 503]"
      ]
     },
     "execution_count": 67,
     "metadata": {},
     "output_type": "execute_result"
    }
   ],
   "source": [
    "best_features = [int(i) for i in sfs1.k_feature_names_]\n",
    "best_features"
   ]
  },
  {
   "cell_type": "code",
   "execution_count": null,
   "metadata": {
    "id": "DlIstEvmtKuM",
    "outputId": "7ec03823-fcad-46ef-a35d-0be2f808de8e"
   },
   "outputs": [
    {
     "data": {
      "text/plain": [
       "Index(['ECM-receptor interaction(Kegg)',\n",
       "       'Natural killer cell mediated cytotoxicity(Kegg)',\n",
       "       'rb tumor suppressor/checkpoint signaling in response to dna damage(BioCarta)'],\n",
       "      dtype='object')"
      ]
     },
     "execution_count": 68,
     "metadata": {},
     "output_type": "execute_result"
    }
   ],
   "source": [
    "best_features_names = data.columns[best_features]\n",
    "best_features_names"
   ]
  },
  {
   "cell_type": "code",
   "execution_count": null,
   "metadata": {
    "id": "7sBWBmxFtKuM",
    "outputId": "a73b2bc7-7868-44b5-9a25-36c69528257c"
   },
   "outputs": [
    {
     "data": {
      "text/plain": [
       "Index(['Aurora B signaling(NCI/Nature)',\n",
       "       'Natural killer cell mediated cytotoxicity(Kegg)',\n",
       "       'il2_stat5_test3(rotem)'],\n",
       "      dtype='object')"
      ]
     },
     "execution_count": 73,
     "metadata": {},
     "output_type": "execute_result"
    }
   ],
   "source": [
    "data.columns[[34, 189, 430]]"
   ]
  },
  {
   "cell_type": "code",
   "execution_count": null,
   "metadata": {
    "id": "i-4eeV_ebAL5"
   },
   "outputs": [],
   "source": [
    "X_train_sfs = sfs1.transform(X_train)\n",
    "X_test_sfs = sfs1.transform(X_test)"
   ]
  },
  {
   "cell_type": "code",
   "execution_count": null,
   "metadata": {
    "id": "bMx0WXwcbAL6",
    "outputId": "14f11b58-6f8a-4dbb-c6dc-27ba2c49bf4a"
   },
   "outputs": [
    {
     "name": "stdout",
     "output_type": "stream",
     "text": [
      "Test set accuracy: 93.85 %\n"
     ]
    }
   ],
   "source": [
    "lsvc.fit(X_train_sfs, y_train)\n",
    "y_pred = lsvc.predict(X_test_sfs)\n",
    "\n",
    "# Compute the accuracy of the prediction\n",
    "acc = float((y_test == y_pred).sum()) / y_pred.shape[0]\n",
    "print('Test set accuracy: %.2f %%' % (acc * 100))"
   ]
  },
  {
   "cell_type": "markdown",
   "metadata": {
    "id": "126jkbPzbAL6"
   },
   "source": [
    "-------------------------------------------------------------------"
   ]
  }
 ],
 "metadata": {
  "colab": {
   "provenance": []
  },
  "kernelspec": {
   "display_name": "Python 3 (ipykernel)",
   "language": "python",
   "name": "python3"
  },
  "language_info": {
   "codemirror_mode": {
    "name": "ipython",
    "version": 3
   },
   "file_extension": ".py",
   "mimetype": "text/x-python",
   "name": "python",
   "nbconvert_exporter": "python",
   "pygments_lexer": "ipython3",
   "version": "3.11.3"
  },
  "vscode": {
   "interpreter": {
    "hash": "533aac1a36696e67f2064c2a545a3a25988722f47054626314201ad1361cabe5"
   }
  }
 },
 "nbformat": 4,
 "nbformat_minor": 1
}
