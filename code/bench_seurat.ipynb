{
 "cells": [
  {
   "attachments": {},
   "cell_type": "markdown",
   "metadata": {},
   "source": [
    "# Seurat Clustering in Human PBMC Single Cells"
   ]
  },
  {
   "attachments": {},
   "cell_type": "markdown",
   "metadata": {},
   "source": [
    "Following the R script at: https://satijalab.org/seurat/articles/pbmc3k_tutorial.html, this notebook prepares the data for R processing, and then evaluate the results."
   ]
  },
  {
   "cell_type": "markdown",
   "metadata": {},
   "source": [
    "We first download the 68K PBMC data and follow the standard `scanpy` workflow for normalisation of read counts and subsetting on the highly variable genes."
   ]
  },
  {
   "cell_type": "code",
   "execution_count": null,
   "metadata": {},
   "outputs": [
    {
     "name": "stdout",
     "output_type": "stream",
     "text": [
      "-----\n",
      "anndata     0.10.8\n",
      "scanpy      1.10.2\n",
      "-----\n",
      "PIL                 10.3.0\n",
      "activity            NA\n",
      "asttokens           NA\n",
      "cffi                1.17.0\n",
      "colorama            0.4.6\n",
      "comm                0.2.2\n",
      "cycler              0.12.1\n",
      "cython_runtime      NA\n",
      "dateutil            2.9.0.post0\n",
      "debugpy             1.8.2\n",
      "decorator           5.1.1\n",
      "decoupler           1.7.0\n",
      "deprecated          1.2.14\n",
      "dill                0.3.8\n",
      "exceptiongroup      1.2.1\n",
      "executing           2.0.1\n",
      "future              1.0.0\n",
      "graphtools          1.5.3\n",
      "h5py                3.11.0\n",
      "igraph              0.11.6\n",
      "importlib_resources NA\n",
      "ipykernel           6.29.4\n",
      "ipywidgets          8.1.3\n",
      "jedi                0.19.1\n",
      "joblib              1.4.2\n",
      "kiwisolver          1.4.5\n",
      "legacy_api_wrap     NA\n",
      "llvmlite            0.43.0\n",
      "louvain             0.8.2\n",
      "magic               3.0.0\n",
      "matplotlib          3.9.0\n",
      "matplotlib_inline   0.1.7\n",
      "metrics             NA\n",
      "mpl_toolkits        NA\n",
      "natsort             8.4.0\n",
      "nt                  NA\n",
      "numba               0.60.0\n",
      "numpy               1.26.4\n",
      "packaging           24.1\n",
      "pandas              2.2.2\n",
      "parso               0.8.4\n",
      "patsy               0.5.6\n",
      "pkg_resources       NA\n",
      "platformdirs        4.2.2\n",
      "prompt_toolkit      3.0.47\n",
      "psutil              6.0.0\n",
      "pure_eval           0.2.2\n",
      "pycparser           2.22\n",
      "pydev_ipython       NA\n",
      "pydevconsole        NA\n",
      "pydevd              2.9.5\n",
      "pydevd_file_utils   NA\n",
      "pydevd_plugins      NA\n",
      "pydevd_tracing      NA\n",
      "pydot               3.0.1\n",
      "pygments            2.18.0\n",
      "pygsp               0.5.1\n",
      "pynndescent         0.5.13\n",
      "pyparsing           3.1.2\n",
      "pythoncom           NA\n",
      "pytz                2024.1\n",
      "pywin32_bootstrap   NA\n",
      "pywin32_system32    NA\n",
      "pywintypes          NA\n",
      "scipy               1.13.1\n",
      "scprep              1.2.3\n",
      "seaborn             0.13.2\n",
      "session_info        1.0.0\n",
      "six                 1.16.0\n",
      "sklearn             1.5.0\n",
      "stack_data          0.6.3\n",
      "statsmodels         0.14.2\n",
      "tasklogger          1.2.0\n",
      "texttable           1.7.0\n",
      "threadpoolctl       3.5.0\n",
      "torch               2.3.1+cpu\n",
      "torchgen            NA\n",
      "tornado             6.4.1\n",
      "tqdm                4.66.4\n",
      "traitlets           5.14.3\n",
      "typing_extensions   NA\n",
      "umap                0.5.6\n",
      "vscode              NA\n",
      "wcwidth             0.2.13\n",
      "win32api            NA\n",
      "win32com            NA\n",
      "wrapt               1.16.0\n",
      "yaml                6.0.2\n",
      "zipp                NA\n",
      "zmq                 26.0.3\n",
      "zoneinfo            NA\n",
      "-----\n",
      "IPython             8.18.1\n",
      "jupyter_client      8.6.2\n",
      "jupyter_core        5.7.2\n",
      "-----\n",
      "Python 3.9.13 (tags/v3.9.13:6de2ca5, May 17 2022, 16:36:42) [MSC v.1929 64 bit (AMD64)]\n",
      "Windows-10-10.0.22631-SP0\n",
      "-----\n",
      "Session information updated at 2024-10-16 00:03\n"
     ]
    }
   ],
   "source": [
    "%reload_ext autoreload\n",
    "%autoreload 2\n",
    "from __future__ import annotations\n",
    "import pandas as pd\n",
    "import scanpy as sc\n",
    "import os\n",
    "import warnings\n",
    "from metrics import *\n",
    "import scipy.io\n",
    "import scipy.sparse\n",
    "\n",
    "\n",
    "#!pip install ipywidgets --upgrade\n",
    "os.environ[\"LOKY_MAX_CPU_COUNT\"] = '4'\n",
    "sc.settings.set_figure_params(dpi=200, frameon=False)\n",
    "sc.set_figure_params(dpi=200)\n",
    "sc.set_figure_params(figsize=(4, 4))\n",
    "sc.logging.print_versions()\n",
    "#Filtering warnings from current version of matplotlib.\n",
    "warnings.filterwarnings(\"ignore\", message=\".*Parameters 'cmap' will be ignored.*\", category=UserWarning)\n",
    "warnings.filterwarnings(\"ignore\", message=\"Tight layout not applied.*\", category=UserWarning)"
   ]
  },
  {
   "cell_type": "markdown",
   "metadata": {},
   "source": [
    "The original dataset is from a single donor, from 10xgenomix. Fresh 68k PBMCs (Donor A).\n",
    "\n",
    "- ~68,000 cells detected\n",
    "- Sequenced on Illumina NextSeq 500 High Output with ~20,000 reads per cell\n",
    "- 98bp read1 (transcript), 8bp I5 sample barcode, 14bp I7 GemCode barcode and 5bp read2 (UMI)\n",
    "- Analysis run with --cells=24000"
   ]
  },
  {
   "cell_type": "code",
   "execution_count": 2,
   "metadata": {},
   "outputs": [
    {
     "data": {
      "text/plain": [
       "AnnData object with n_obs × n_vars = 700 × 765\n",
       "    obs: 'bulk_labels', 'n_genes', 'percent_mito', 'n_counts', 'S_score', 'G2M_score', 'phase', 'louvain'\n",
       "    var: 'n_counts', 'means', 'dispersions', 'dispersions_norm', 'highly_variable'\n",
       "    uns: 'bulk_labels_colors', 'louvain', 'louvain_colors', 'neighbors', 'pca', 'rank_genes_groups'\n",
       "    obsm: 'X_pca', 'X_umap'\n",
       "    varm: 'PCs'\n",
       "    obsp: 'distances', 'connectivities'"
      ]
     },
     "execution_count": 2,
     "metadata": {},
     "output_type": "execute_result"
    }
   ],
   "source": [
    "adata = sc.datasets.pbmc68k_reduced()\n",
    "adata"
   ]
  },
  {
   "cell_type": "code",
   "execution_count": 6,
   "metadata": {},
   "outputs": [],
   "source": [
    "adata.obs['labels'] = adata.obs.bulk_labels.map({'CD14+ Monocyte':0, 'Dendritic':1, 'CD56+ NK':2, 'CD4+/CD25 T Reg':3, 'CD19+ B':4, 'CD8+ Cytotoxic T':5, 'CD4+/CD45RO+ Memory':6, 'CD8+/CD45RA+ Naive Cytotoxic':7, 'CD4+/CD45RA+/CD25- Naive T':8, 'CD34+':9})"
   ]
  },
  {
   "cell_type": "code",
   "execution_count": null,
   "metadata": {},
   "outputs": [
    {
     "name": "stdout",
     "output_type": "stream",
     "text": [
      "Number of genes: 765\n",
      "Number of cells: 700\n"
     ]
    }
   ],
   "source": [
    "# Step 1: Export barcodes (cell names) to barcodes.tsv.\n",
    "barcodes = pd.DataFrame(adata.obs_names)\n",
    "barcodes.to_csv('./data/hg19b/barcodes.tsv', sep='\\t', header=False, index=False)\n",
    "\n",
    "# Step 2: Export gene names to genes.tsv.\n",
    "genes = pd.DataFrame(adata.var_names)\n",
    "genes.to_csv('./data/hg19b/genes.tsv', sep='\\t', header=False, index=False)\n",
    "\n",
    "# Step 3: Export the expression matrix to matrix.mtx.\n",
    "# Convert the expression matrix to a sparse matrix if it's not already.\n",
    "raw_data = adata.raw.X.T\n",
    "if not scipy.sparse.issparse(raw_data):\n",
    "    raw_data = scipy.sparse.csr_matrix(raw_data)\n",
    "\n",
    "# Verify the dimensions\n",
    "num_genes = adata.shape[1]\n",
    "num_cells = adata.shape[0]\n",
    "\n",
    "print(f\"Number of genes: {num_genes}\")\n",
    "print(f\"Number of cells: {num_cells}\")\n",
    "\n",
    "# Save the sparse matrix in Matrix Market format\n",
    "scipy.io.mmwrite('./data/hg19b/matrix.mtx', raw_data)"
   ]
  },
  {
   "cell_type": "markdown",
   "metadata": {},
   "source": [
    "### Use the R code seurat.R to calculate cluster assignments. Save the results as seurat_clusters.csv."
   ]
  },
  {
   "cell_type": "code",
   "execution_count": 11,
   "metadata": {},
   "outputs": [
    {
     "name": "stdout",
     "output_type": "stream",
     "text": [
      "               Cell  Cluster True_Label\n",
      "0  AAAGCCTGGCTAAC-1        1          0\n",
      "1  AAATTCGATGCACA-1        1          1\n",
      "2  AACACGTGGTCTTT-1        4          2\n",
      "3  AAGTGCACGTGCTA-1        8          3\n",
      "4  ACACGAACGGAGTG-1        5          1\n"
     ]
    }
   ],
   "source": [
    "# Step 1: Read the Seurat CSV file into a DataFrame (df1).\n",
    "df1 = pd.read_csv('./data/seurat_clusters.csv')\n",
    "\n",
    "# Step 2: Create a new DataFrame (df2) from the adata object.\n",
    "true_labels = adata.obs['labels'].reset_index()\n",
    "true_labels.columns = ['Cell', 'True_Label']\n",
    "\n",
    "# Merge the dataframes on the cell identifiers.\n",
    "merged_df = pd.merge(df1, true_labels, on='Cell')\n",
    "\n",
    "# Display the merged dataframe.\n",
    "print(merged_df.head())"
   ]
  },
  {
   "cell_type": "code",
   "execution_count": null,
   "metadata": {},
   "outputs": [
    {
     "name": "stdout",
     "output_type": "stream",
     "text": [
      "Silhouette Score: 0.10989487711324464\n",
      "Calinski-Harabasz Index: 51.29868134246531\n",
      "Special accuracy: 0.6285714285714286\n",
      "completeness score: 0.5930755615265298\n",
      "homogeneity_score: 0.6787977727839148\n",
      "adjusted_mutual_info_score: 0.6214094122697238\n"
     ]
    }
   ],
   "source": [
    "#Extract pathway activity matrix for metric calculation.\n",
    "pca_embedings = pd.read_csv('./data/pca_embedings.csv', index_col=0)\n",
    "\n",
    "#We use cdata.obs.data, the true labels.\n",
    "true_labels = merged_df.True_Label\n",
    "\n",
    "calc_stats(pca_embedings, true_labels, merged_df.Cluster)"
   ]
  }
 ],
 "metadata": {
  "kernelspec": {
   "display_name": "venv",
   "language": "python",
   "name": "python3"
  },
  "language_info": {
   "codemirror_mode": {
    "name": "ipython",
    "version": 3
   },
   "file_extension": ".py",
   "mimetype": "text/x-python",
   "name": "python",
   "nbconvert_exporter": "python",
   "pygments_lexer": "ipython3",
   "version": "3.9.13"
  }
 },
 "nbformat": 4,
 "nbformat_minor": 2
}
