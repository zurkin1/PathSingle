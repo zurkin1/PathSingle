{
 "cells": [
  {
   "cell_type": "code",
   "execution_count": null,
   "metadata": {},
   "outputs": [],
   "source": [
    "from __future__ import annotations\n",
    "import numpy as np\n",
    "import pandas as pd\n",
    "import scanpy as sc\n",
    "import decoupler\n",
    "from tqdm.notebook import tqdm\n",
    "import session_info\n",
    "import os\n",
    "import warnings\n",
    "import scanpy.external as sce\n",
    "from metrics import *\n",
    "import scprep\n",
    "from sklearn.cluster import KMeans\n",
    "import umap.umap_ as umap\n",
    "import matplotlib.pyplot as plt\n",
    "import magic\n",
    "from activity import *\n",
    "from pathlib import Path\n",
    "from sklearn.preprocessing import MinMaxScaler\n",
    "from sklearn.feature_selection import VarianceThreshold\n",
    "from scipy import stats\n",
    "\n",
    "\n",
    "#!pip install ipywidgets --upgrade\n",
    "os.environ[\"LOKY_MAX_CPU_COUNT\"] = '4'\n",
    "sc.settings.set_figure_params(dpi=200, frameon=False)\n",
    "sc.set_figure_params(dpi=200)\n",
    "sc.set_figure_params(figsize=(4, 4))\n",
    "#Filtering warnings from current version of matplotlib.\n",
    "warnings.filterwarnings(\"ignore\", message=\".*Parameters 'cmap' will be ignored.*\", category=UserWarning)\n",
    "warnings.filterwarnings(\"ignore\", message=\"Tight layout not applied.*\", category=UserWarning)"
   ]
  },
  {
   "cell_type": "code",
   "execution_count": null,
   "metadata": {},
   "outputs": [
    {
     "data": {
      "text/plain": [
       "AnnData object with n_obs × n_vars = 700 × 765\n",
       "    obs: 'bulk_labels', 'n_genes', 'percent_mito', 'n_counts', 'S_score', 'G2M_score', 'phase', 'louvain', 'labels'\n",
       "    var: 'n_counts', 'means', 'dispersions', 'dispersions_norm', 'highly_variable'\n",
       "    uns: 'bulk_labels_colors', 'louvain', 'louvain_colors', 'neighbors', 'pca', 'rank_genes_groups'\n",
       "    obsm: 'X_pca', 'X_umap'\n",
       "    varm: 'PCs'\n",
       "    obsp: 'distances', 'connectivities'"
      ]
     },
     "execution_count": 4,
     "metadata": {},
     "output_type": "execute_result"
    }
   ],
   "source": [
    "# We first download the 68K PBMC data and follow the standard `scanpy` workflow for normalisation of read counts and subsetting on the highly variable genes.\n",
    "adata = sc.datasets.pbmc68k_reduced()\n",
    "adata.obs['labels'] = adata.obs.bulk_labels.map({'CD14+ Monocyte':0, 'Dendritic':1, 'CD56+ NK':2, 'CD4+/CD25 T Reg':3, 'CD19+ B':4, 'CD8+ Cytotoxic T':5, 'CD4+/CD45RO+ Memory':6, 'CD8+/CD45RA+ Naive Cytotoxic':7, 'CD4+/CD45RA+/CD25- Naive T':8, 'CD34+':9})\n",
    "true_labels = adata.obs.labels\n",
    "adata"
   ]
  },
  {
   "cell_type": "markdown",
   "metadata": {},
   "source": [
    "### Run Magic"
   ]
  },
  {
   "cell_type": "code",
   "execution_count": 5,
   "metadata": {},
   "outputs": [
    {
     "name": "stdout",
     "output_type": "stream",
     "text": [
      "[[0.    0.    0.    1.591 1.591]\n",
      " [1.55  0.    1.55  0.    0.   ]\n",
      " [0.    0.    1.374 0.    0.   ]\n",
      " [0.    0.    1.711 1.711 0.   ]\n",
      " [0.    0.    0.    1.275 0.   ]]\n",
      "[[-0.326 -0.191 -0.728 -0.301  3.386]\n",
      " [ 1.171 -0.191  0.795 -1.2   -0.174]\n",
      " [-0.326 -0.191  0.483 -1.2   -0.174]\n",
      " [-0.326 -0.191  1.134 -0.157 -0.174]\n",
      " [-0.326 -0.191 -0.728 -0.607 -0.174]]\n"
     ]
    }
   ],
   "source": [
    "print(adata.raw.to_adata().X.toarray()[:5,:5])\n",
    "sce.pp.magic(adata, name_list='all_genes')\n",
    "print(adata.raw.to_adata().X[:5,:5])"
   ]
  },
  {
   "cell_type": "markdown",
   "metadata": {},
   "source": [
    "#### Retrieving gene sets\n",
    "Download and read the `gmt` file for the REACTOME pathways annotated in the C2 collection of MSigDB. "
   ]
  },
  {
   "cell_type": "code",
   "execution_count": null,
   "metadata": {},
   "outputs": [
    {
     "data": {
      "text/html": [
       "<div>\n",
       "<style scoped>\n",
       "    .dataframe tbody tr th:only-of-type {\n",
       "        vertical-align: middle;\n",
       "    }\n",
       "\n",
       "    .dataframe tbody tr th {\n",
       "        vertical-align: top;\n",
       "    }\n",
       "\n",
       "    .dataframe thead th {\n",
       "        text-align: right;\n",
       "    }\n",
       "</style>\n",
       "<table border=\"1\" class=\"dataframe\">\n",
       "  <thead>\n",
       "    <tr style=\"text-align: right;\">\n",
       "      <th></th>\n",
       "      <th>geneset</th>\n",
       "      <th>genesymbol</th>\n",
       "    </tr>\n",
       "  </thead>\n",
       "  <tbody>\n",
       "    <tr>\n",
       "      <th>0</th>\n",
       "      <td>REACTOME_INTERLEUKIN_6_SIGNALING</td>\n",
       "      <td>JAK2</td>\n",
       "    </tr>\n",
       "    <tr>\n",
       "      <th>1</th>\n",
       "      <td>REACTOME_INTERLEUKIN_6_SIGNALING</td>\n",
       "      <td>TYK2</td>\n",
       "    </tr>\n",
       "    <tr>\n",
       "      <th>2</th>\n",
       "      <td>REACTOME_INTERLEUKIN_6_SIGNALING</td>\n",
       "      <td>CBL</td>\n",
       "    </tr>\n",
       "    <tr>\n",
       "      <th>3</th>\n",
       "      <td>REACTOME_INTERLEUKIN_6_SIGNALING</td>\n",
       "      <td>STAT1</td>\n",
       "    </tr>\n",
       "    <tr>\n",
       "      <th>4</th>\n",
       "      <td>REACTOME_INTERLEUKIN_6_SIGNALING</td>\n",
       "      <td>IL6ST</td>\n",
       "    </tr>\n",
       "  </tbody>\n",
       "</table>\n",
       "</div>"
      ],
      "text/plain": [
       "                            geneset genesymbol\n",
       "0  REACTOME_INTERLEUKIN_6_SIGNALING       JAK2\n",
       "1  REACTOME_INTERLEUKIN_6_SIGNALING       TYK2\n",
       "2  REACTOME_INTERLEUKIN_6_SIGNALING        CBL\n",
       "3  REACTOME_INTERLEUKIN_6_SIGNALING      STAT1\n",
       "4  REACTOME_INTERLEUKIN_6_SIGNALING      IL6ST"
      ]
     },
     "execution_count": 6,
     "metadata": {},
     "output_type": "execute_result"
    }
   ],
   "source": [
    "# Retrieving gene sets. Download and read the `gmt` file for the REACTOME pathways annotated in the C2 collection of MSigDB. \n",
    "if not Path(\"./data/c2.cp.reactome.v7.5.1.symbols.gmt\").is_file():\n",
    "    !wget -O './data/c2.cp.reactome.v7.5.1.symbols.gmt' https://figshare.com/ndownloader/files/35233771\n",
    "\n",
    "def gmt_to_decoupler(pth: Path) -> pd.DataFrame:\n",
    "    \"\"\"Parse a gmt file to a decoupler pathway dataframe.\"\"\"\n",
    "    from itertools import chain, repeat\n",
    "\n",
    "    pathways = {}\n",
    "    with Path(pth).open(\"r\") as f:\n",
    "        for line in f:\n",
    "            name, _, *genes = line.strip().split(\"\\t\")\n",
    "            pathways[name] = genes\n",
    "\n",
    "    return pd.DataFrame.from_records(\n",
    "        chain.from_iterable(zip(repeat(k), v) for k, v in pathways.items()),\n",
    "        columns=[\"geneset\", \"genesymbol\"],\n",
    "    )\n",
    "\n",
    "reactome = gmt_to_decoupler(\"./data/c2.cp.reactome.v7.5.1.symbols.gmt\")\n",
    "reactome.head()"
   ]
  },
  {
   "cell_type": "code",
   "execution_count": 16,
   "metadata": {},
   "outputs": [],
   "source": [
    "def run_method(method_name, method):\n",
    "    \"\"\"Run a given method 30 times, calculate metrics and confidence intervals.\"\"\"\n",
    "    metrics = [[] for _ in range(6)] # Initialize 6 empty lists.\n",
    "    metric_names = ['Silhouette', 'Calinski', 'Special', 'Completeness', 'Homogeneity', 'Adjusted']\n",
    "    for _ in tqdm(range(30)):\n",
    "        pathway_activity_df = method()\n",
    "        #Perform KMeans clustering and plot UMAP.\n",
    "        kmeans = cluster_with_kmeans(method_name, pathway_activity_df, adata, n_clusters=10)\n",
    "\n",
    "        # Append all scores at once using list comprehension\n",
    "        scores = calc_stats(pathway_activity_df, true_labels, kmeans.labels_)\n",
    "        for score, metric_list in zip(scores, metrics):\n",
    "            metric_list.append(score)\n",
    "\n",
    "    print(f'Results for {method_name}:')\n",
    "    for name, metric in zip(metric_names, metrics):\n",
    "        print(f\"{name} - mean: {np.mean(metric)}, ci: {stats.t.interval(0.95, len(metric)-1, loc=np.mean(metric), scale=stats.sem(metric))}\")"
   ]
  },
  {
   "cell_type": "markdown",
   "metadata": {},
   "source": [
    "## GSEA"
   ]
  },
  {
   "cell_type": "markdown",
   "metadata": {},
   "source": [
    "#### Running GSEA"
   ]
  },
  {
   "cell_type": "markdown",
   "metadata": {},
   "source": [
    "Now we will use the python package [`decoupler`](https://decoupler-py.readthedocs.io/en/latest/) <cite>`badia2022decoupler`</cite> to perform GSEA enrichment tests on our data. We use the normalized scores from sc.pp.normalize_total(adata) as a proxy for differential expression (DE) scores, which will significantly speed up the process since we don't have to calculate DE scores for each cell individually."
   ]
  },
  {
   "cell_type": "code",
   "execution_count": null,
   "metadata": {},
   "outputs": [],
   "source": [
    "# Running GSEA. We will use the python package [`decoupler`](https://decoupler-py.readthedocs.io/en/latest/) <cite>`badia2022decoupler`</cite> to perform GSEA enrichment tests on our data.\n",
    "# We use the normalized scores from sc.pp.normalize_total(adata) as a proxy for differential expression (DE) scores, which will significantly speed up the process since we don't have to \n",
    "# calculate DE scores for each cell individually.\n",
    "def run_gsea():\n",
    "    #Prepare the result matrix for GSEA scores.\n",
    "    num_cells = adata.shape[0]\n",
    "    num_gene_sets = len(reactome['geneset'].unique())\n",
    "    gsea_results_matrix = np.zeros((num_cells, num_gene_sets))\n",
    "\n",
    "    #Loop through each cell to run GSEA.\n",
    "    for cell_index in range(num_cells):\n",
    "        #Get normalized expression values for the specific cell.\n",
    "        cell_expr = adata.X[cell_index]\n",
    "        #Create a DataFrame to hold DE scores.\n",
    "        de_scores = pd.DataFrame(cell_expr, index=adata.var_names, columns=['scores'])\n",
    "        #Run GSEA using decoupler.\n",
    "        _, norm, _ = decoupler.run_gsea(de_scores.T, reactome, source=\"geneset\", target=\"genesymbol\")\n",
    "        #Store the normalized enrichment scores (NES) in the result matrix.\n",
    "        gsea_results_matrix[cell_index, :] = norm.iloc[:, 0].values\n",
    "        #Save the result matrix for later use.\n",
    "        #np.save('./data/gsea_results_matrix.npy', gsea_results_matrix)\n",
    "        print(cell_index, end='\\r')\n",
    "    return gsea_results_matrix\n",
    "\n",
    "\n",
    "run_method('gsea', run_gsea)\n",
    "'''\n",
    "Silhouette Score: 0.5818618817999396\n",
    "Calinski-Harabasz Index: 17819.743450336544\n",
    "Special accuracy: 0.3314285714285714\n",
    "completeness score: 0.22306129171029385\n",
    "homogeneity_score: 0.2461920972304762\n",
    "adjusted_mutual_info_score: 0.2096547513727912\n",
    "'''"
   ]
  },
  {
   "cell_type": "markdown",
   "metadata": {},
   "source": [
    "## PROGENy\n",
    "PROGENy is a comprehensive resource containing a curated collection of pathways and their target genes, with weights for each interaction. Here is a brief description of each pathway:\n",
    "- Androgen: involved in the growth and development of the male reproductive organs.\n",
    "- EGFR: regulates growth, survival, migration, apoptosis, proliferation, and differentiation in mammalian cells\n",
    "- Estrogen: promotes the growth and development of the female reproductive organs.\n",
    "- Hypoxia: promotes angiogenesis and metabolic reprogramming when O2 levels are low.\n",
    "- JAK-STAT: involved in immunity, cell division, cell death, and tumor formation.\n",
    "- MAPK: integrates external signals and promotes cell growth and proliferation.\n",
    "- NFkB: regulates immune response, cytokine production and cell survival.\n",
    "- p53: regulates cell cycle, apoptosis, DNA repair and tumor suppression.\n",
    "- PI3K: promotes growth and proliferation.\n",
    "- TGFb: involved in development, homeostasis, and repair of most tissues.\n",
    "- TNFa: mediates haematopoiesis, immune surveillance, tumour regression and protection from infection.\n",
    "- Trail: induces apoptosis.\n",
    "- VEGF: mediates angiogenesis, vascular permeability, and cell migration.\n",
    "- WNT: regulates organ morphogenesis during development and tissue repair."
   ]
  },
  {
   "cell_type": "markdown",
   "metadata": {},
   "source": [
    "To infer pathway enrichment scores we will run the multivariate linear model (mlm) method. For each cell in our dataset (adata), it fits a linear model that predicts the observed gene expression based on all pathways’ Pathway-Gene interactions weights. Once fitted, the obtained t-values of the slopes are the scores. If it is positive, we interpret that the pathway is active and if it is negative we interpret that it is inactive."
   ]
  },
  {
   "cell_type": "code",
   "execution_count": null,
   "metadata": {},
   "outputs": [
    {
     "name": "stderr",
     "output_type": "stream",
     "text": [
      "100%|██████████| 30/30 [00:13<00:00,  2.15it/s]"
     ]
    },
    {
     "name": "stdout",
     "output_type": "stream",
     "text": [
      "Results for progeny:\n",
      "Silhouette - mean: 0.5994470119476318, ci: (0.5837380086204144, 0.6151560152748493)\n",
      "Calinski - mean: 1809.87665776202, ci: (1773.4737280450795, 1846.2795874789604)\n",
      "Special - mean: 0.6271428571428571, ci: (0.6114787182419504, 0.6428069960437638)\n",
      "Completeness - mean: 0.6207960242943827, ci: (0.6128990147889134, 0.6286930337998521)\n",
      "Homogeneity - mean: 0.6358791241359868, ci: (0.6309284707239026, 0.640829777548071)\n",
      "Adjusted - mean: 0.6159252478430198, ci: (0.6098366484002805, 0.6220138472857591)\n"
     ]
    },
    {
     "name": "stderr",
     "output_type": "stream",
     "text": [
      "\n"
     ]
    }
   ],
   "source": [
    "progeny = decoupler.get_progeny(organism='human', top=2000)\n",
    "\n",
    "def run_progeny():\n",
    "    decoupler.run_mlm(mat=adata, net=progeny, source='source', target='target', weight='weight', verbose=False, use_raw=False)\n",
    "    acts = decoupler.get_acts(adata, obsm_key='mlm_estimate')\n",
    "    #Convert the pathway activity matrix to a DataFrame.\n",
    "    return pd.DataFrame(acts.obsm['mlm_estimate'], index=adata.obs_names, columns=acts.var_names)\n",
    "\n",
    "run_method('progeny', run_progeny)\n",
    "'''\n",
    "Silhouette - mean: 0.5994470119476318, ci: (0.5837380086204144, 0.6151560152748493)\n",
    "Calinski - mean: 1809.87665776202, ci: (1773.4737280450795, 1846.2795874789604)\n",
    "Special - mean: 0.6271428571428571, ci: (0.6114787182419504, 0.6428069960437638)\n",
    "Completeness - mean: 0.6207960242943827, ci: (0.6128990147889134, 0.6286930337998521)\n",
    "Homogeneity - mean: 0.6358791241359868, ci: (0.6309284707239026, 0.640829777548071)\n",
    "Adjusted - mean: 0.6159252478430198, ci: (0.6098366484002805, 0.6220138472857591)\n",
    "'''"
   ]
  },
  {
   "cell_type": "markdown",
   "metadata": {},
   "source": [
    "## AUCell"
   ]
  },
  {
   "cell_type": "markdown",
   "metadata": {},
   "source": [
    "Unlike the previous approach where we assessed gene set *enrichment* per *cluster* (or rather cell type), one can *score* the activity level of pathways and gene sets in each individual cell, that is based on absolute gene expression in the cell, regardless of expression of genes in the other cells. This we can achieve by activity scoring tools such as `AUCell`.\n",
    "\n",
    "Similar to `GSEA`, we will be using the `decoupler` implementation of `AUCell`. Make sure to run the previous cell for downloading the REACTOME gene sets."
   ]
  },
  {
   "cell_type": "code",
   "execution_count": null,
   "metadata": {},
   "outputs": [
    {
     "name": "stderr",
     "output_type": "stream",
     "text": [
      "100%|██████████| 30/30 [00:59<00:00,  1.97s/it]"
     ]
    },
    {
     "name": "stdout",
     "output_type": "stream",
     "text": [
      "Results for aucell:\n",
      "Silhouette - mean: 0.5645602345466614, ci: (0.5418287845709704, 0.5872916845223524)\n",
      "Calinski - mean: 945.4906096018539, ci: (915.5391413815059, 975.4420778222018)\n",
      "Special - mean: 0.5946666666666667, ci: (0.5827601074933282, 0.6065732258400052)\n",
      "Completeness - mean: 0.60093050891257, ci: (0.5916599459964447, 0.6102010718286954)\n",
      "Homogeneity - mean: 0.6342885403046792, ci: (0.6296686799647475, 0.6389084006446109)\n",
      "Adjusted - mean: 0.6045281693242305, ci: (0.5974978431803457, 0.6115584954681152)\n"
     ]
    },
    {
     "name": "stderr",
     "output_type": "stream",
     "text": [
      "\n"
     ]
    }
   ],
   "source": [
    "def run_aucell():\n",
    "    decoupler.run_aucell(adata, reactome, source=\"geneset\", target=\"genesymbol\", use_raw=False, verbose=False)\n",
    "    return adata.obsm[\"aucell_estimate\"]\n",
    "\n",
    "run_method('aucell', run_aucell)\n",
    "'''\n",
    "Silhouette - mean: 0.5645602345466614, ci: (0.5418287845709704, 0.5872916845223524)\n",
    "Calinski - mean: 945.4906096018539, ci: (915.5391413815059, 975.4420778222018)\n",
    "Special - mean: 0.5946666666666667, ci: (0.5827601074933282, 0.6065732258400052)\n",
    "Completeness - mean: 0.60093050891257, ci: (0.5916599459964447, 0.6102010718286954)\n",
    "Homogeneity - mean: 0.6342885403046792, ci: (0.6296686799647475, 0.6389084006446109)\n",
    "Adjusted - mean: 0.6045281693242305, ci: (0.5974978431803457, 0.6115584954681152)\n",
    "'''"
   ]
  },
  {
   "cell_type": "markdown",
   "metadata": {},
   "source": [
    "## PathSingle"
   ]
  },
  {
   "cell_type": "code",
   "execution_count": null,
   "metadata": {},
   "outputs": [
    {
     "name": "stderr",
     "output_type": "stream",
     "text": [
      "  0%|          | 0/30 [00:00<?, ?it/s]"
     ]
    },
    {
     "name": "stdout",
     "output_type": "stream",
     "text": [
      "139\r"
     ]
    },
    {
     "name": "stderr",
     "output_type": "stream",
     "text": [
      "  3%|▎         | 1/30 [02:12<1:04:03, 132.54s/it]"
     ]
    },
    {
     "name": "stdout",
     "output_type": "stream",
     "text": [
      "139\r"
     ]
    },
    {
     "name": "stderr",
     "output_type": "stream",
     "text": [
      "  7%|▋         | 2/30 [04:25<1:01:53, 132.61s/it]"
     ]
    },
    {
     "name": "stdout",
     "output_type": "stream",
     "text": [
      "139\r"
     ]
    },
    {
     "name": "stderr",
     "output_type": "stream",
     "text": [
      " 10%|█         | 3/30 [07:42<1:12:58, 162.18s/it]"
     ]
    },
    {
     "name": "stdout",
     "output_type": "stream",
     "text": [
      "139\r"
     ]
    },
    {
     "name": "stderr",
     "output_type": "stream",
     "text": [
      " 13%|█▎        | 4/30 [10:37<1:12:24, 167.10s/it]"
     ]
    },
    {
     "name": "stdout",
     "output_type": "stream",
     "text": [
      "139\r"
     ]
    },
    {
     "name": "stderr",
     "output_type": "stream",
     "text": [
      " 17%|█▋        | 5/30 [13:05<1:06:49, 160.39s/it]"
     ]
    },
    {
     "name": "stdout",
     "output_type": "stream",
     "text": [
      "139\r"
     ]
    },
    {
     "name": "stderr",
     "output_type": "stream",
     "text": [
      " 20%|██        | 6/30 [15:49<1:04:40, 161.70s/it]"
     ]
    },
    {
     "name": "stdout",
     "output_type": "stream",
     "text": [
      "139\r"
     ]
    },
    {
     "name": "stderr",
     "output_type": "stream",
     "text": [
      " 23%|██▎       | 7/30 [18:20<1:00:31, 157.89s/it]"
     ]
    },
    {
     "name": "stdout",
     "output_type": "stream",
     "text": [
      "139\r"
     ]
    },
    {
     "name": "stderr",
     "output_type": "stream",
     "text": [
      " 27%|██▋       | 8/30 [20:50<57:00, 155.46s/it]  "
     ]
    },
    {
     "name": "stdout",
     "output_type": "stream",
     "text": [
      "139\r"
     ]
    },
    {
     "name": "stderr",
     "output_type": "stream",
     "text": [
      " 30%|███       | 9/30 [23:21<53:59, 154.24s/it]"
     ]
    },
    {
     "name": "stdout",
     "output_type": "stream",
     "text": [
      "139\r"
     ]
    },
    {
     "name": "stderr",
     "output_type": "stream",
     "text": [
      " 33%|███▎      | 10/30 [25:59<51:45, 155.26s/it]"
     ]
    },
    {
     "name": "stdout",
     "output_type": "stream",
     "text": [
      "139\r"
     ]
    },
    {
     "name": "stderr",
     "output_type": "stream",
     "text": [
      " 37%|███▋      | 11/30 [28:37<49:24, 156.02s/it]"
     ]
    },
    {
     "name": "stdout",
     "output_type": "stream",
     "text": [
      "139\r"
     ]
    },
    {
     "name": "stderr",
     "output_type": "stream",
     "text": [
      " 40%|████      | 12/30 [31:14<46:58, 156.56s/it]"
     ]
    },
    {
     "name": "stdout",
     "output_type": "stream",
     "text": [
      "139\r"
     ]
    },
    {
     "name": "stderr",
     "output_type": "stream",
     "text": [
      " 43%|████▎     | 13/30 [33:49<44:11, 155.97s/it]"
     ]
    },
    {
     "name": "stdout",
     "output_type": "stream",
     "text": [
      "139\r"
     ]
    },
    {
     "name": "stderr",
     "output_type": "stream",
     "text": [
      " 47%|████▋     | 14/30 [36:22<41:21, 155.12s/it]"
     ]
    },
    {
     "name": "stdout",
     "output_type": "stream",
     "text": [
      "139\r"
     ]
    },
    {
     "name": "stderr",
     "output_type": "stream",
     "text": [
      " 50%|█████     | 15/30 [38:55<38:38, 154.55s/it]"
     ]
    },
    {
     "name": "stdout",
     "output_type": "stream",
     "text": [
      "139\r"
     ]
    },
    {
     "name": "stderr",
     "output_type": "stream",
     "text": [
      " 53%|█████▎    | 16/30 [41:16<35:07, 150.50s/it]"
     ]
    },
    {
     "name": "stdout",
     "output_type": "stream",
     "text": [
      "139\r"
     ]
    },
    {
     "name": "stderr",
     "output_type": "stream",
     "text": [
      " 57%|█████▋    | 17/30 [43:35<31:50, 146.98s/it]"
     ]
    },
    {
     "name": "stdout",
     "output_type": "stream",
     "text": [
      "139\r"
     ]
    },
    {
     "name": "stderr",
     "output_type": "stream",
     "text": [
      " 60%|██████    | 18/30 [45:55<28:57, 144.80s/it]"
     ]
    },
    {
     "name": "stdout",
     "output_type": "stream",
     "text": [
      "139\r"
     ]
    },
    {
     "name": "stderr",
     "output_type": "stream",
     "text": [
      " 63%|██████▎   | 19/30 [48:13<26:11, 142.85s/it]"
     ]
    },
    {
     "name": "stdout",
     "output_type": "stream",
     "text": [
      "139\r"
     ]
    },
    {
     "name": "stderr",
     "output_type": "stream",
     "text": [
      " 67%|██████▋   | 20/30 [50:33<23:38, 141.88s/it]"
     ]
    },
    {
     "name": "stdout",
     "output_type": "stream",
     "text": [
      "139\r"
     ]
    },
    {
     "name": "stderr",
     "output_type": "stream",
     "text": [
      " 70%|███████   | 21/30 [52:50<21:03, 140.35s/it]"
     ]
    },
    {
     "name": "stdout",
     "output_type": "stream",
     "text": [
      "139\r"
     ]
    },
    {
     "name": "stderr",
     "output_type": "stream",
     "text": [
      " 73%|███████▎  | 22/30 [55:07<18:36, 139.55s/it]"
     ]
    },
    {
     "name": "stdout",
     "output_type": "stream",
     "text": [
      "139\r"
     ]
    },
    {
     "name": "stderr",
     "output_type": "stream",
     "text": [
      " 77%|███████▋  | 23/30 [57:23<16:09, 138.45s/it]"
     ]
    },
    {
     "name": "stdout",
     "output_type": "stream",
     "text": [
      "139\r"
     ]
    },
    {
     "name": "stderr",
     "output_type": "stream",
     "text": [
      " 80%|████████  | 24/30 [59:39<13:46, 137.68s/it]"
     ]
    },
    {
     "name": "stdout",
     "output_type": "stream",
     "text": [
      "139\r"
     ]
    },
    {
     "name": "stderr",
     "output_type": "stream",
     "text": [
      " 83%|████████▎ | 25/30 [1:01:58<11:29, 137.91s/it]"
     ]
    },
    {
     "name": "stdout",
     "output_type": "stream",
     "text": [
      "139\r"
     ]
    },
    {
     "name": "stderr",
     "output_type": "stream",
     "text": [
      " 87%|████████▋ | 26/30 [1:04:20<09:16, 139.16s/it]"
     ]
    },
    {
     "name": "stdout",
     "output_type": "stream",
     "text": [
      "139\r"
     ]
    },
    {
     "name": "stderr",
     "output_type": "stream",
     "text": [
      " 90%|█████████ | 27/30 [1:06:40<06:58, 139.56s/it]"
     ]
    },
    {
     "name": "stdout",
     "output_type": "stream",
     "text": [
      "139\r"
     ]
    },
    {
     "name": "stderr",
     "output_type": "stream",
     "text": [
      " 93%|█████████▎| 28/30 [1:09:18<04:50, 145.07s/it]"
     ]
    },
    {
     "name": "stdout",
     "output_type": "stream",
     "text": [
      "139\r"
     ]
    },
    {
     "name": "stderr",
     "output_type": "stream",
     "text": [
      " 97%|█████████▋| 29/30 [1:11:39<02:23, 143.90s/it]"
     ]
    },
    {
     "name": "stdout",
     "output_type": "stream",
     "text": [
      "139\r"
     ]
    },
    {
     "name": "stderr",
     "output_type": "stream",
     "text": [
      "100%|██████████| 30/30 [1:13:56<00:00, 147.90s/it]"
     ]
    },
    {
     "name": "stdout",
     "output_type": "stream",
     "text": [
      "Results for pathsingle:\n",
      "Silhouette - mean: 0.5358855452382626, ci: (0.5232767136639006, 0.5484943768126246)\n",
      "Calinski - mean: 1090.5438033592732, ci: (1054.1400981262054, 1126.947508592341)\n",
      "Special - mean: 0.5937619047619047, ci: (0.5835908538349613, 0.6039329556888481)\n",
      "Completeness - mean: 0.6089631563405739, ci: (0.6041706907373023, 0.6137556219438454)\n",
      "Homogeneity - mean: 0.6464026295938959, ci: (0.6402176559580726, 0.6525876032297193)\n",
      "Adjusted - mean: 0.6148974658974095, ci: (0.6098015038476241, 0.6199934279471948)\n"
     ]
    },
    {
     "name": "stderr",
     "output_type": "stream",
     "text": [
      "\n"
     ]
    }
   ],
   "source": [
    "def run_pathsingle():\n",
    "    from sklearn.decomposition import PCA\n",
    "    \n",
    "    activity_df = pd.DataFrame(adata.X, index=adata.obs_names, columns=adata.var_names)\n",
    "    #magic_op = magic.MAGIC()\n",
    "    #activity_df = magic_op.fit_transform(activity_df)\n",
    "    activity = sc.AnnData(activity_df)\n",
    "\n",
    "    calc_activity(activity)\n",
    "    output_activity = pd.read_csv('./data/output_interaction_activity.csv', index_col=0)\n",
    "\n",
    "    #selector = VarianceThreshold(threshold=0.01)\n",
    "    #output_activity = selector.fit_transform(output_activity)\n",
    "\n",
    "    #Scale the data.\n",
    "    scaler = MinMaxScaler()\n",
    "    output_activity = scaler.fit_transform(output_activity)\n",
    "    PCA = PCA(n_components=50, svd_solver='arpack')\n",
    "    output_activity = PCA.fit_transform(output_activity)\n",
    "    return output_activity\n",
    "\n",
    "run_method('pathsingle', run_pathsingle)\n",
    "'''\n",
    "Silhouette Score: 0.5577373354652382\n",
    "Calinski-Harabasz Index: 1055.0147987294065\n",
    "Special accuracy: 0.6214285714285714\n",
    "completeness score: 0.6103618744991666\n",
    "homogeneity_score: 0.6504527943574239\n",
    "adjusted_mutual_info_score: 0.6176909258981184\n",
    "Results for pathsingle:\n",
    "Silhouette - mean: 0.5358855452382626, ci: (0.5232767136639006, 0.5484943768126246)\n",
    "Calinski - mean: 1090.5438033592732, ci: (1054.1400981262054, 1126.947508592341)\n",
    "Special - mean: 0.5937619047619047, ci: (0.5835908538349613, 0.6039329556888481)\n",
    "Completeness - mean: 0.6089631563405739, ci: (0.6041706907373023, 0.6137556219438454)\n",
    "Homogeneity - mean: 0.6464026295938959, ci: (0.6402176559580726, 0.6525876032297193)\n",
    "Adjusted - mean: 0.6148974658974095, ci: (0.6098015038476241, 0.6199934279471948)\n",
    "'''"
   ]
  },
  {
   "cell_type": "markdown",
   "metadata": {},
   "source": [
    "## Session info"
   ]
  },
  {
   "cell_type": "code",
   "execution_count": 3,
   "metadata": {},
   "outputs": [
    {
     "name": "stdout",
     "output_type": "stream",
     "text": [
      "-----\n",
      "anndata     0.10.8\n",
      "scanpy      1.10.2\n",
      "-----\n",
      "PIL                 10.3.0\n",
      "activity            NA\n",
      "asttokens           NA\n",
      "cffi                1.17.1\n",
      "colorama            0.4.6\n",
      "comm                0.2.2\n",
      "cycler              0.12.1\n",
      "cython_runtime      NA\n",
      "dateutil            2.9.0.post0\n",
      "debugpy             1.8.2\n",
      "decorator           5.1.1\n",
      "decoupler           1.7.0\n",
      "deprecated          1.2.14\n",
      "dill                0.3.8\n",
      "exceptiongroup      1.2.1\n",
      "executing           2.0.1\n",
      "future              1.0.0\n",
      "graphtools          1.5.3\n",
      "h5py                3.11.0\n",
      "igraph              0.11.6\n",
      "importlib_resources NA\n",
      "ipykernel           6.29.4\n",
      "ipywidgets          8.1.3\n",
      "jedi                0.19.1\n",
      "joblib              1.4.2\n",
      "kiwisolver          1.4.5\n",
      "legacy_api_wrap     NA\n",
      "llvmlite            0.43.0\n",
      "louvain             0.8.2\n",
      "magic               3.0.0\n",
      "matplotlib          3.9.0\n",
      "matplotlib_inline   0.1.7\n",
      "metrics             NA\n",
      "mpl_toolkits        NA\n",
      "natsort             8.4.0\n",
      "nt                  NA\n",
      "numba               0.60.0\n",
      "numpy               1.26.4\n",
      "packaging           24.1\n",
      "pandas              2.2.2\n",
      "parso               0.8.4\n",
      "patsy               0.5.6\n",
      "pkg_resources       NA\n",
      "platformdirs        4.2.2\n",
      "prompt_toolkit      3.0.47\n",
      "psutil              6.0.0\n",
      "pure_eval           0.2.2\n",
      "pycparser           2.22\n",
      "pydev_ipython       NA\n",
      "pydevconsole        NA\n",
      "pydevd              2.9.5\n",
      "pydevd_file_utils   NA\n",
      "pydevd_plugins      NA\n",
      "pydevd_tracing      NA\n",
      "pydot               3.0.1\n",
      "pygments            2.18.0\n",
      "pygsp               0.5.1\n",
      "pynndescent         0.5.13\n",
      "pyparsing           3.1.2\n",
      "pythoncom           NA\n",
      "pytz                2024.1\n",
      "pywin32_bootstrap   NA\n",
      "pywin32_system32    NA\n",
      "pywintypes          NA\n",
      "scipy               1.13.1\n",
      "scprep              1.2.3\n",
      "seaborn             0.13.2\n",
      "session_info        1.0.0\n",
      "six                 1.16.0\n",
      "sklearn             1.5.0\n",
      "stack_data          0.6.3\n",
      "statsmodels         0.14.2\n",
      "tasklogger          1.2.0\n",
      "texttable           1.7.0\n",
      "threadpoolctl       3.5.0\n",
      "torch               2.3.1+cpu\n",
      "torchgen            NA\n",
      "tornado             6.4.1\n",
      "tqdm                4.66.4\n",
      "traitlets           5.14.3\n",
      "typing_extensions   NA\n",
      "umap                0.5.6\n",
      "vscode              NA\n",
      "wcwidth             0.2.13\n",
      "win32api            NA\n",
      "win32com            NA\n",
      "wrapt               1.16.0\n",
      "yaml                6.0.2\n",
      "zipp                NA\n",
      "zmq                 26.0.3\n",
      "zoneinfo            NA\n",
      "zope                NA\n",
      "-----\n",
      "IPython             8.18.1\n",
      "jupyter_client      8.6.2\n",
      "jupyter_core        5.7.2\n",
      "-----\n",
      "Python 3.9.13 (tags/v3.9.13:6de2ca5, May 17 2022, 16:36:42) [MSC v.1929 64 bit (AMD64)]\n",
      "Windows-10-10.0.22631-SP0\n",
      "-----\n",
      "Session information updated at 2024-12-05 20:52\n"
     ]
    },
    {
     "data": {
      "text/html": [
       "<details>\n",
       "<summary>Click to view session information</summary>\n",
       "<pre>\n",
       "-----\n",
       "activity            NA\n",
       "decoupler           1.7.0\n",
       "magic               3.0.0\n",
       "matplotlib          3.9.0\n",
       "metrics             NA\n",
       "numpy               1.26.4\n",
       "pandas              2.2.2\n",
       "scanpy              1.10.2\n",
       "scipy               1.13.1\n",
       "scprep              1.2.3\n",
       "seaborn             0.13.2\n",
       "session_info        1.0.0\n",
       "sklearn             1.5.0\n",
       "torch               2.3.1+cpu\n",
       "tqdm                4.66.4\n",
       "umap                0.5.6\n",
       "-----\n",
       "</pre>\n",
       "<details>\n",
       "<summary>Click to view modules imported as dependencies</summary>\n",
       "<pre>\n",
       "PIL                 10.3.0\n",
       "anndata             0.10.8\n",
       "asttokens           NA\n",
       "cffi                1.17.1\n",
       "colorama            0.4.6\n",
       "comm                0.2.2\n",
       "cycler              0.12.1\n",
       "cython_runtime      NA\n",
       "dateutil            2.9.0.post0\n",
       "debugpy             1.8.2\n",
       "decorator           5.1.1\n",
       "deprecated          1.2.14\n",
       "dill                0.3.8\n",
       "exceptiongroup      1.2.1\n",
       "executing           2.0.1\n",
       "future              1.0.0\n",
       "graphtools          1.5.3\n",
       "h5py                3.11.0\n",
       "igraph              0.11.6\n",
       "importlib_metadata  NA\n",
       "importlib_resources NA\n",
       "ipykernel           6.29.4\n",
       "ipywidgets          8.1.3\n",
       "jedi                0.19.1\n",
       "joblib              1.4.2\n",
       "kiwisolver          1.4.5\n",
       "legacy_api_wrap     NA\n",
       "llvmlite            0.43.0\n",
       "louvain             0.8.2\n",
       "matplotlib_inline   0.1.7\n",
       "mpl_toolkits        NA\n",
       "natsort             8.4.0\n",
       "nt                  NA\n",
       "numba               0.60.0\n",
       "packaging           24.1\n",
       "parso               0.8.4\n",
       "patsy               0.5.6\n",
       "pkg_resources       NA\n",
       "platformdirs        4.2.2\n",
       "prompt_toolkit      3.0.47\n",
       "psutil              6.0.0\n",
       "pure_eval           0.2.2\n",
       "pycparser           2.22\n",
       "pydev_ipython       NA\n",
       "pydevconsole        NA\n",
       "pydevd              2.9.5\n",
       "pydevd_file_utils   NA\n",
       "pydevd_plugins      NA\n",
       "pydevd_tracing      NA\n",
       "pydot               3.0.1\n",
       "pygments            2.18.0\n",
       "pygsp               0.5.1\n",
       "pynndescent         0.5.13\n",
       "pyparsing           3.1.2\n",
       "pythoncom           NA\n",
       "pytz                2024.1\n",
       "pywin32_bootstrap   NA\n",
       "pywin32_system32    NA\n",
       "pywintypes          NA\n",
       "six                 1.16.0\n",
       "stack_data          0.6.3\n",
       "statsmodels         0.14.2\n",
       "tasklogger          1.2.0\n",
       "texttable           1.7.0\n",
       "threadpoolctl       3.5.0\n",
       "torchgen            NA\n",
       "tornado             6.4.1\n",
       "traitlets           5.14.3\n",
       "typing_extensions   NA\n",
       "vscode              NA\n",
       "wcwidth             0.2.13\n",
       "win32api            NA\n",
       "win32com            NA\n",
       "wrapt               1.16.0\n",
       "yaml                6.0.2\n",
       "zipp                NA\n",
       "zmq                 26.0.3\n",
       "zoneinfo            NA\n",
       "zope                NA\n",
       "</pre>\n",
       "</details> <!-- seems like this ends pre, so might as well be explicit -->\n",
       "<pre>\n",
       "-----\n",
       "IPython             8.18.1\n",
       "jupyter_client      8.6.2\n",
       "jupyter_core        5.7.2\n",
       "-----\n",
       "Python 3.9.13 (tags/v3.9.13:6de2ca5, May 17 2022, 16:36:42) [MSC v.1929 64 bit (AMD64)]\n",
       "Windows-10-10.0.22631-SP0\n",
       "-----\n",
       "Session information updated at 2024-12-05 20:52\n",
       "</pre>\n",
       "</details>"
      ],
      "text/plain": [
       "<IPython.core.display.HTML object>"
      ]
     },
     "execution_count": 3,
     "metadata": {},
     "output_type": "execute_result"
    }
   ],
   "source": [
    "sc.logging.print_versions()\n",
    "session_info.show()"
   ]
  }
 ],
 "metadata": {
  "kernelspec": {
   "display_name": "venv",
   "language": "python",
   "name": "python3"
  },
  "language_info": {
   "codemirror_mode": {
    "name": "ipython",
    "version": 3
   },
   "file_extension": ".py",
   "mimetype": "text/x-python",
   "name": "python",
   "nbconvert_exporter": "python",
   "pygments_lexer": "ipython3",
   "version": "3.9.13"
  }
 },
 "nbformat": 4,
 "nbformat_minor": 2
}
