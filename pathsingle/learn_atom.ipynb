{
 "cells": [
  {
   "cell_type": "markdown",
   "metadata": {
    "id": "bLwvSgBB2hh5"
   },
   "source": []
  },
  {
   "cell_type": "markdown",
   "metadata": {
    "id": "CX8Ibqt64FP8"
   },
   "source": [
    "# Feature Reduction With ATOM"
   ]
  },
  {
   "cell_type": "code",
   "execution_count": null,
   "metadata": {
    "id": "QfkgRQxtf7PY"
   },
   "outputs": [],
   "source": [
    "import pandas as pd\n",
    "import numpy as np\n",
    "from sklearn.model_selection import train_test_split\n",
    "from sklearn.neighbors import KNeighborsClassifier\n",
    "from atom import ATOMClassifier\n",
    "from sklearn.preprocessing import LabelEncoder\n",
    "from sklearn.ensemble import ExtraTreesClassifier\n",
    "from sklearn.feature_selection import SelectFromModel\n",
    "from sklearn.metrics import roc_auc_score, accuracy_score\n",
    "from sklearn.feature_selection import SequentialFeatureSelector"
   ]
  },
  {
   "cell_type": "markdown",
   "metadata": {
    "id": "k6YvgkBc4Kjg"
   },
   "source": [
    "# Select The Output Activity File From PathSingle"
   ]
  },
  {
   "cell_type": "code",
   "execution_count": null,
   "metadata": {
    "id": "eSn694bAf7Pd"
   },
   "outputs": [],
   "source": [
    "data = pd.read_csv('c:\\\\Users\\\\user\\\\Documents\\\\Downloads\\\\output_activity_st3.csv', index_col=0)"
   ]
  },
  {
   "cell_type": "code",
   "execution_count": null,
   "metadata": {
    "id": "WzRjCyabf7Pe"
   },
   "outputs": [],
   "source": [
    "x = data.iloc[:,:-1].values\n",
    "y = data.iloc[:,-1].values"
   ]
  },
  {
   "cell_type": "code",
   "execution_count": null,
   "metadata": {
    "id": "kHIyQaHof7Pf"
   },
   "outputs": [],
   "source": [
    "ly = LabelEncoder()\n",
    "y = ly.fit_transform(y)\n",
    "x_train, x_test, y_train, y_test = train_test_split(x, y, stratify=y)\n",
    "atom = ATOMClassifier(x, y, verbose=2)"
   ]
  },
  {
   "cell_type": "markdown",
   "metadata": {
    "id": "nPwzvCUo4xKA"
   },
   "source": [
    "# Select The Classifier"
   ]
  },
  {
   "cell_type": "code",
   "execution_count": null,
   "metadata": {
    "id": "Zg29Nnlqf7Ph",
    "outputId": "1fc6d198-4ba2-4ea0-a5b0-ab8633a4c3d1"
   },
   "outputs": [
    {
     "name": "stdout",
     "output_type": "stream",
     "text": [
      "\n",
      "Training ========================= >>\n",
      "Models: RF\n",
      "Metric: roc_auc_ovr\n",
      "\n",
      "\n",
      "Running hyperparameter tuning for RandomForest...\n",
      "| trial | n_estimators | criterion | max_depth | min_samples_split | min_samples_leaf | max_features | bootstrap | max_samples | ccp_alpha | roc_auc_ovr | best_roc_auc_ovr | time_trial | time_ht |    state |\n",
      "| ----- | ------------ | --------- | --------- | ----------------- | ---------------- | ------------ | --------- | ----------- | --------- | ----------- | ---------------- | ---------- | ------- | -------- |\n",
      "| 0     |          110 |   entropy |         5 |                20 |               11 |          0.5 |      True |         0.5 |      0.03 |      0.9831 |           0.9831 |    05m:37s | 05m:37s | COMPLETE |\n",
      "| 1     |           20 |      gini |      None |                14 |               16 |          0.8 |     False |         --- |     0.035 |      0.9274 |           0.9831 |    06m:34s | 12m:11s | COMPLETE |\n",
      "| 2     |          270 |   entropy |         2 |                 2 |                7 |         None |      True |        None |     0.015 |      0.9266 |           0.9831 |    24m:45s | 36m:56s | COMPLETE |\n",
      "| 3     |          230 |   entropy |        10 |                17 |               18 |         log2 |     False |         --- |       0.0 |      0.9986 |           0.9986 |    01m:43s | 38m:39s | COMPLETE |\n",
      "| 4     |          210 |   entropy |        16 |                 3 |                9 |         sqrt |      True |        None |     0.035 |      0.9872 |           0.9986 |    02m:36s | 41m:15s | COMPLETE |\n",
      "| 5     |          410 |   entropy |         6 |                20 |               17 |         None |     False |         --- |      0.03 |      0.9043 |           0.9986 | 02h:24m:.. | 03h:0.. | COMPLETE |\n",
      "| 6     |           10 |      gini |        10 |                14 |                7 |          0.9 |     False |         --- |     0.015 |      0.9234 |           0.9986 |    02m:06s | 03h:0.. | COMPLETE |\n",
      "| 7     |           50 |   entropy |         4 |                16 |                7 |          0.5 |     False |         --- |     0.035 |      0.9798 |           0.9986 |    06m:27s | 03h:1.. | COMPLETE |\n",
      "| 8     |          230 |   entropy |        12 |                13 |                2 |         log2 |     False |         --- |      0.01 |      0.9917 |           0.9986 |    01m:49s | 03h:1.. | COMPLETE |\n",
      "| 9     |          430 |      gini |         1 |                 8 |                3 |          0.8 |     False |         --- |     0.035 |      0.7646 |           0.9986 |    09m:01s | 03h:2.. | COMPLETE |\n",
      "Hyperparameter tuning ---------------------------\n",
      "Best trial --> 3\n",
      "Best parameters:\n",
      " --> n_estimators: 230\n",
      " --> criterion: entropy\n",
      " --> max_depth: 10\n",
      " --> min_samples_split: 17\n",
      " --> min_samples_leaf: 18\n",
      " --> max_features: log2\n",
      " --> bootstrap: False\n",
      " --> ccp_alpha: 0.0\n",
      "Best evaluation --> roc_auc_ovr: 0.9986\n",
      "Time elapsed: 03h:24m:51s\n",
      "Fit ---------------------------------------------\n",
      "Train evaluation --> roc_auc_ovr: 0.9997\n",
      "Test evaluation --> roc_auc_ovr: 0.9984\n",
      "Time elapsed: 02m:12s\n",
      "-------------------------------------------------\n",
      "Total time: 03h:27m:03s\n",
      "\n",
      "\n",
      "Final results ==================== >>\n",
      "Total time: 03h:27m:03s\n",
      "-------------------------------------\n",
      "RandomForest --> roc_auc_ovr: 0.9984\n"
     ]
    }
   ],
   "source": [
    "atom.run(models=[\"RF\"], metric=\"roc_auc_ovr\", n_trials=10)"
   ]
  },
  {
   "cell_type": "code",
   "execution_count": null,
   "metadata": {
    "colab": {
     "base_uri": "https://localhost:8080/"
    },
    "id": "QLdrjAXXfxuM",
    "outputId": "56ccc84f-e00a-4884-d249-a77682fd1d58"
   },
   "outputs": [
    {
     "data": {
      "text/plain": [
       "(28697, 581)"
      ]
     },
     "execution_count": 6,
     "metadata": {},
     "output_type": "execute_result"
    }
   ],
   "source": [
    "clf = ExtraTreesClassifier(n_estimators=100)\n",
    "clf = clf.fit(x_train, y_train)\n",
    "#clf.feature_importance_\n",
    "x.shape"
   ]
  },
  {
   "cell_type": "code",
   "execution_count": null,
   "metadata": {
    "colab": {
     "base_uri": "https://localhost:8080/"
    },
    "id": "GWj9vcTIf23t",
    "outputId": "a5618e1c-94e8-4b73-adfe-de8220cbd89b"
   },
   "outputs": [
    {
     "name": "stdout",
     "output_type": "stream",
     "text": [
      "ACC score: 0.9810452961672473  AUC score: 0.999380906303266\n"
     ]
    }
   ],
   "source": [
    "#Predict the class probabilities of the test data.\n",
    "y_proba = clf.predict_proba(x_test)\n",
    "y_pred = clf.predict(x_test)\n",
    "# Calculate the AUC score.\n",
    "auc = roc_auc_score(y_test, np.array(y_proba), multi_class='ovr')\n",
    "acc = accuracy_score(y_test, y_pred)\n",
    "\n",
    "print(\"ACC score:\", acc, \" AUC score:\", auc)"
   ]
  },
  {
   "cell_type": "code",
   "execution_count": null,
   "metadata": {
    "id": "NH7IQ0LnxmUC"
   },
   "outputs": [],
   "source": [
    "atom.feature_selection(strategy=\"sfs\", solver=\"rf\", n_features=6, verbose=2)\n",
    "atom.run(models=[\"RF\"], metric=\"accuracy\", n_trials=10)"
   ]
  },
  {
   "cell_type": "markdown",
   "metadata": {
    "id": "1C_sNVlr5NMv"
   },
   "source": [
    "# Using SKLearn SelectFromModel"
   ]
  },
  {
   "cell_type": "code",
   "execution_count": null,
   "metadata": {
    "colab": {
     "base_uri": "https://localhost:8080/"
    },
    "id": "4BFFDIjsf6Q_",
    "outputId": "ded83096-3459-426b-e459-96c817913fd4"
   },
   "outputs": [
    {
     "name": "stdout",
     "output_type": "stream",
     "text": [
      "(28697, 7)\n"
     ]
    },
    {
     "data": {
      "text/plain": [
       "array(['Aurora B signaling(NCI/Nature)', 'Aurora C signaling(NCI/Nature)',\n",
       "       'ECM-receptor interaction(Kegg)',\n",
       "       'Pathogenic Escherichia coli infection(Kegg)',\n",
       "       'Signaling by Aurora kinases(NCI/Nature)',\n",
       "       'cdc25 and chk1 regulatory pathway in response to dna damage(BioCarta)',\n",
       "       'sonic hedgehog receptor ptc1 regulates cell cycle(BioCarta)'],\n",
       "      dtype=object)"
      ]
     },
     "execution_count": 8,
     "metadata": {},
     "output_type": "execute_result"
    }
   ],
   "source": [
    "#Select from model.\n",
    "model = SelectFromModel(clf, prefit=True, max_features=7)\n",
    "x_new = model.transform(x)\n",
    "print(x_new.shape)\n",
    "model.get_feature_names_out(data.columns[:-1])[:10]"
   ]
  },
  {
   "cell_type": "markdown",
   "metadata": {
    "id": "L906MWK55TJp"
   },
   "source": [
    "# Using SKLearn SequentialFeatureSelector"
   ]
  },
  {
   "cell_type": "code",
   "execution_count": null,
   "metadata": {
    "id": "mRBkE-ZGw0A-"
   },
   "outputs": [],
   "source": [
    "#SequentialFeatureSelector.\n",
    "sfs = SequentialFeatureSelector(clf, n_features_to_select=5, direction=\"forward\")\n",
    "sfs.fit(x,y)\n",
    "print(f'Features selected {sfs.get_support()}')"
   ]
  },
  {
   "cell_type": "code",
   "execution_count": null,
   "metadata": {
    "colab": {
     "base_uri": "https://localhost:8080/"
    },
    "id": "RRdBIBXEf99u",
    "outputId": "57c76fc6-179b-482e-ea4b-332d7adfafcd"
   },
   "outputs": [
    {
     "name": "stdout",
     "output_type": "stream",
     "text": [
      "ACC score: 0.9225087108013937  AUC score: 0.9820332647157359\n"
     ]
    }
   ],
   "source": [
    "#Retrain.\n",
    "new_columns = model.get_feature_names_out(data.columns[:-1])\n",
    "new_data = data[new_columns].copy()\n",
    "new_data['state'] = data['state']\n",
    "x = new_data.iloc[:,:-1].values\n",
    "y = new_data.iloc[:,-1].values\n",
    "y = ly.fit_transform(y)\n",
    "x_train, x_test, y_train, y_test = train_test_split(x, y)\n",
    "clf = ExtraTreesClassifier(n_estimators=100)\n",
    "clf = clf.fit(x_train, y_train)\n",
    "#Predict the class probabilities of the test data.\n",
    "y_proba = clf.predict_proba(x_test)\n",
    "# Calculate the AUC score.\n",
    "auc = roc_auc_score(y_test, np.array(y_proba), multi_class='ovr')\n",
    "acc = accuracy_score(y_test, [np.argmax(i) for i in y_proba])\n",
    "\n",
    "print(\"ACC score:\", acc, \" AUC score:\", auc)"
   ]
  },
  {
   "cell_type": "code",
   "execution_count": null,
   "metadata": {
    "id": "Mz3e63m4uj5k"
   },
   "outputs": [],
   "source": [
    "import joblib\n",
    "import sys\n",
    "sys.modules['sklearn.externals.joblib'] = joblib\n",
    "from mlxtend.feature_selection import SequentialFeatureSelector as SFS\n",
    "\n",
    "\n",
    "knn = KNeighborClassifier(n_neighbors=4)\n",
    "sfs1 = SFS(knn,\n",
    "           k_features=10,\n",
    "           forward=False,\n",
    "           floating=True,\n",
    "           verbose=2,\n",
    "           scoring='accuracy',\n",
    "           cv=0,\n",
    "           n_jobs=-1)\n",
    "\n",
    "sfs1 = sfs1.fit(x_train, y_train)\n",
    "sfs1.k_score_"
   ]
  },
  {
   "cell_type": "code",
   "execution_count": null,
   "metadata": {
    "id": "TyzpdjQrw0A_",
    "outputId": "df589c69-9f6c-4959-b4c9-b415b9018b8e"
   },
   "outputs": [
    {
     "data": {
      "text/plain": [
       "[0, 1, 2, 3, 4, 5, 65]"
      ]
     },
     "execution_count": 71,
     "metadata": {},
     "output_type": "execute_result"
    }
   ],
   "source": [
    "best_features = [int(i) for i in sfs1.k_feature_names_]\n",
    "best_features"
   ]
  },
  {
   "cell_type": "markdown",
   "metadata": {
    "id": "2edi2iZ4uRm6"
   },
   "source": []
  },
  {
   "cell_type": "code",
   "execution_count": null,
   "metadata": {
    "id": "okirbvbUw0A_",
    "outputId": "db1f3900-53ef-43ce-8358-ca6d081924a1"
   },
   "outputs": [
    {
     "data": {
      "text/plain": [
       "Index(['1 4-Dichlorobenzene degradation(Kegg)',\n",
       "       '1- and 2-Methylnaphthalene degradation(Kegg)',\n",
       "       '3-Chloroacrylic acid degradation(Kegg)',\n",
       "       'Acute myeloid leukemia(Kegg)',\n",
       "       'Cellular roles of Anthrax toxin(NCI/Nature)'],\n",
       "      dtype='object')"
      ]
     },
     "execution_count": 53,
     "metadata": {},
     "output_type": "execute_result"
    }
   ],
   "source": [
    "best_features_names = data.columns[best_features]\n",
    "best_features_names"
   ]
  },
  {
   "cell_type": "code",
   "execution_count": null,
   "metadata": {
    "id": "Zu914dQOw0A_",
    "outputId": "a0ce8c75-54ff-407c-995c-a6cb500991d6"
   },
   "outputs": [
    {
     "data": {
      "text/plain": [
       "Index(['1 4-Dichlorobenzene degradation(Kegg)',\n",
       "       '1- and 2-Methylnaphthalene degradation(Kegg)',\n",
       "       '3-Chloroacrylic acid degradation(Kegg)',\n",
       "       'Acute myeloid leukemia(Kegg)', 'Adherens junction(Kegg)',\n",
       "       'Adipocytokine signaling pathway(Kegg)',\n",
       "       'Cellular roles of Anthrax toxin(NCI/Nature)'],\n",
       "      dtype='object')"
      ]
     },
     "execution_count": 72,
     "metadata": {},
     "output_type": "execute_result"
    }
   ],
   "source": [
    "best_features_names = data.columns[best_features]\n",
    "best_features_names\n",
    "#ACC score: 0.899233449477352  AUC score: 0.9786395870235323"
   ]
  }
 ],
 "metadata": {
  "colab": {
   "provenance": []
  },
  "kernelspec": {
   "display_name": "Python 3 (ipykernel)",
   "language": "python",
   "name": "python3"
  },
  "language_info": {
   "codemirror_mode": {
    "name": "ipython",
    "version": 3
   },
   "file_extension": ".py",
   "mimetype": "text/x-python",
   "name": "python",
   "nbconvert_exporter": "python",
   "pygments_lexer": "ipython3",
   "version": "3.11.3"
  },
  "vscode": {
   "interpreter": {
    "hash": "533aac1a36696e67f2064c2a545a3a25988722f47054626314201ad1361cabe5"
   }
  }
 },
 "nbformat": 4,
 "nbformat_minor": 1
}
